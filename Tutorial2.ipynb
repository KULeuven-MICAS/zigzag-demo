{
 "cells": [
  {
   "cell_type": "markdown",
   "source": [
    "## Tutorial 2: Look into the ZigZag API function\n",
    "This tutorial show you the implementation of the ZigZag API function.\n",
    "\n",
    "By the end of this tutorial, you will get a general idea of **the stage concept** (the key programming concept of the whole ZigZag project), and how to customize stages to meet different goals."
   ],
   "metadata": {
    "collapsed": false
   }
  },
  {
   "cell_type": "markdown",
   "source": [
    "Let's have a look of the API function implementation"
   ],
   "metadata": {
    "collapsed": false
   }
  },
  {
   "cell_type": "code",
   "execution_count": 1,
   "id": "b809494d-84fb-482f-88ff-db7e819e7e9e",
   "metadata": {},
   "outputs": [],
   "source": [
    "from zigzag.classes.stages import *\n",
    "\n",
    "def get_hardware_performance_zigzag(workload,\n",
    "                                    accelerator,\n",
    "                                    mapping,\n",
    "                                    opt='latency',\n",
    "                                    dump_filename_pattern=\"outputs/{datetime}.json\",\n",
    "                                    pickle_filename=\"outputs/list_of_cmes.pickle\"):\n",
    "    # Initialize the logger\n",
    "    import logging as _logging\n",
    "    _logging_level = _logging.INFO\n",
    "    _logging_format = '%(asctime)s - %(funcName)s +%(lineno)s - %(levelname)s - %(message)s'\n",
    "    _logging.basicConfig(level=_logging_level,\n",
    "                         format=_logging_format)\n",
    "\n",
    "    # Sanity check on the optimization criterion\n",
    "    if opt == 'energy':\n",
    "        opt_stage = MinimalEnergyStage\n",
    "    elif opt == 'latency':\n",
    "        opt_stage = MinimalLatencyStage\n",
    "    elif opt == 'EDP':\n",
    "        opt_stage = MinimalEDPStage\n",
    "    else:\n",
    "        raise NotImplementedError(\"Optimization criterion 'opt' should be either 'energy' or 'latency' or 'EDP'.\")\n",
    "\n",
    "    # Check workload format and based on it select the correct workload parser stage\n",
    "    try:\n",
    "        if workload.split('.')[-1] == 'onnx':\n",
    "            workload_parser_stage = ONNXModelParserStage\n",
    "        else:\n",
    "            workload_parser_stage = WorkloadParserStage\n",
    "    except:\n",
    "        workload_parser_stage = WorkloadParserStage\n",
    "\n",
    "    mainstage = MainStage([  # Initialize the MainStage as entry point\n",
    "        workload_parser_stage,  # Parse the ONNX Model into the workload\n",
    "        AcceleratorParserStage,  # Parse the accelerator module/passthrough given accelerator\n",
    "        SimpleSaveStage,  # Save the summed CME energy and latency to a json\n",
    "        PickleSaveStage,  # Save all received CMEs in a list to a pickle file\n",
    "        SumStage,  # Sum up the received best CME across all layers of the workload\n",
    "        WorkloadStage,  # Iterate through the different layers in the workload\n",
    "        CompleteSaveStage,  # Save each processed layer to a json\n",
    "        opt_stage,  # Reduce all CMEs, returning minimal energy/latency one\n",
    "        SpatialMappingGeneratorStage,  # Generate multiple spatial mappings (SM)\n",
    "        opt_stage,  # Reduce all CMEs, returning minimal energy/latency one\n",
    "        LomaStage,  # Generate multiple temporal mappings (TM)\n",
    "        # SalsaStage,  # Generate multiple temporal mappings (TM)\n",
    "        # TemporalOrderingConversionStage,  # Based on the fixed temporal mapping order, generate one temporal mapping (TM)\n",
    "        CostModelStage  # Evaluate generated SM and TM through cost model\n",
    "    ],\n",
    "        accelerator=accelerator,  # required by AcceleratorParserStage\n",
    "        workload=workload,  # required by workload_parser_stage\n",
    "        mapping=mapping,  # required by workload_parser_stage\n",
    "        dump_filename_pattern=dump_filename_pattern,  # output file save pattern\n",
    "        pickle_filename=pickle_filename,  # filename for pickled list of cmes\n",
    "        loma_lpf_limit=6,  # required by LomaStage\n",
    "        loma_show_progress_bar=True,\n",
    "    )\n",
    "\n",
    "    # Launch the MainStage\n",
    "    answers = mainstage.run()\n",
    "    # Get CME from answer\n",
    "    cmes = answers\n",
    "\n",
    "    return cmes[0][0].energy_total, cmes[0][0].latency_total2, cmes"
   ]
  },
  {
   "cell_type": "markdown",
   "source": [
    "Define the mapping (fixed temporal ordering for now)"
   ],
   "metadata": {
    "collapsed": false
   }
  },
  {
   "cell_type": "code",
   "execution_count": 2,
   "outputs": [],
   "source": [
    "mapping = {\n",
    "    \"Conv\": {\n",
    "        \"core_allocation\": 1,\n",
    "        \"spatial_mapping\": {'D1': ('K', 32), 'D2': ('C', 32)},\n",
    "        \"memory_operand_links\": {'O': 'O', 'W': 'I2', 'I': 'I1'},\n",
    "        \"temporal_ordering\": [('K', 2), ('C', 2), ('OY', 56), ('OX', 56), ('FY', 3), ('FX', 3)]  # from left to right -> from the innermost memory to the off-chip\n",
    "    }\n",
    "}"
   ],
   "metadata": {
    "collapsed": false
   }
  },
  {
   "cell_type": "markdown",
   "source": [
    "Define our own HW architecture"
   ],
   "metadata": {
    "collapsed": false
   }
  },
  {
   "cell_type": "code",
   "execution_count": 4,
   "outputs": [
    {
     "data": {
      "text/plain": "<Figure size 432x288 with 1 Axes>",
      "image/png": "[encoded data removed]"
     },
     "metadata": {},
     "output_type": "display_data"
    },
    {
     "ename": "NameError",
     "evalue": "name '__file__' is not defined",
     "output_type": "error",
     "traceback": [
      "\u001B[0;31m---------------------------------------------------------------------------\u001B[0m",
      "\u001B[0;31mNameError\u001B[0m                                 Traceback (most recent call last)",
      "\u001B[0;32m/tmp/ipykernel_286093/2376271353.py\u001B[0m in \u001B[0;36m<module>\u001B[0;34m\u001B[0m\n\u001B[1;32m     82\u001B[0m \u001B[0mcores\u001B[0m \u001B[0;34m=\u001B[0m \u001B[0mcores\u001B[0m\u001B[0;34m(\u001B[0m\u001B[0;34m)\u001B[0m\u001B[0;34m\u001B[0m\u001B[0;34m\u001B[0m\u001B[0m\n\u001B[1;32m     83\u001B[0m \u001B[0mglobal_buffer\u001B[0m \u001B[0;34m=\u001B[0m \u001B[0;32mNone\u001B[0m\u001B[0;34m\u001B[0m\u001B[0;34m\u001B[0m\u001B[0m\n\u001B[0;32m---> 84\u001B[0;31m \u001B[0macc_name\u001B[0m \u001B[0;34m=\u001B[0m \u001B[0mos\u001B[0m\u001B[0;34m.\u001B[0m\u001B[0mpath\u001B[0m\u001B[0;34m.\u001B[0m\u001B[0mbasename\u001B[0m\u001B[0;34m(\u001B[0m\u001B[0m__file__\u001B[0m\u001B[0;34m)\u001B[0m\u001B[0;34m[\u001B[0m\u001B[0;34m:\u001B[0m\u001B[0;34m-\u001B[0m\u001B[0;36m3\u001B[0m\u001B[0;34m]\u001B[0m\u001B[0;34m\u001B[0m\u001B[0;34m\u001B[0m\u001B[0m\n\u001B[0m\u001B[1;32m     85\u001B[0m \u001B[0maccelerator\u001B[0m \u001B[0;34m=\u001B[0m \u001B[0mAccelerator\u001B[0m\u001B[0;34m(\u001B[0m\u001B[0macc_name\u001B[0m\u001B[0;34m,\u001B[0m \u001B[0mcores\u001B[0m\u001B[0;34m,\u001B[0m \u001B[0mglobal_buffer\u001B[0m\u001B[0;34m)\u001B[0m\u001B[0;34m\u001B[0m\u001B[0;34m\u001B[0m\u001B[0m\n",
      "\u001B[0;31mNameError\u001B[0m: name '__file__' is not defined"
     ]
    }
   ],
   "source": [
    "from zigzag.classes.hardware.architecture.memory_hierarchy import MemoryHierarchy\n",
    "from zigzag.classes.hardware.architecture.operational_unit import Multiplier\n",
    "from zigzag.classes.hardware.architecture.operational_array import MultiplierArray\n",
    "from zigzag.classes.hardware.architecture.memory_instance import MemoryInstance\n",
    "from zigzag.classes.hardware.architecture.accelerator import Accelerator\n",
    "from zigzag.classes.hardware.architecture.core import Core\n",
    "\n",
    "def memory_hierarchy_dut(multiplier_array):\n",
    "    \"\"\"Memory hierarchy variables\"\"\"\n",
    "    ''' size=#bit, bw=(read bw, write bw), cost=(read word energy, write work energy) '''\n",
    "\n",
    "    reg_128B = MemoryInstance(name=\"rf_128B\", size=128 * 8, r_bw=8, w_bw=8, r_cost=0.095, w_cost=0.095, area=0,\n",
    "                                r_port=1, w_port=1, rw_port=0, latency=1)\n",
    "\n",
    "    reg_2B = MemoryInstance(name=\"rf_2B\", size=16, r_bw=16, w_bw=16, r_cost=0.021, w_cost=0.021, area=0,\n",
    "                              r_port=2, w_port=2, rw_port=0, latency=1)\n",
    "\n",
    "    sram_2M_with_16_128K_bank_128_1r_1w = \\\n",
    "        MemoryInstance(name=\"sram_2MB\", size=131072 * 16 * 8, r_bw=128 * 16, w_bw=128 * 16, r_cost=26.01 * 16, w_cost=23.65 * 16, area=0,\n",
    "                       r_port=1, w_port=1, rw_port=0, latency=1, min_r_granularity=64, min_w_granularity=64)\n",
    "\n",
    "    dram = MemoryInstance(name=\"dram\", size=10000000000, r_bw=64, w_bw=64, r_cost=700, w_cost=750, area=0,\n",
    "                          r_port=0, w_port=0, rw_port=1, latency=1)\n",
    "\n",
    "    memory_hierarchy_graph = MemoryHierarchy(operational_array=multiplier_array)\n",
    "\n",
    "    '''\n",
    "    fh: from high = wr_in_by_high\n",
    "    fl: from low = wr_in_by_low\n",
    "    th: to high = rd_out_to_high\n",
    "    tl: to low = rd_out_to_low\n",
    "    '''\n",
    "    memory_hierarchy_graph.add_memory(memory_instance=reg_128B, operands=('I2',),\n",
    "                                      port_alloc=({'fh': 'w_port_1', 'tl': 'r_port_1', 'fl': None, 'th': None},),\n",
    "                                      served_dimensions={(0, 0)})\n",
    "\n",
    "    memory_hierarchy_graph.add_memory(memory_instance=reg_2B, operands=('O',),\n",
    "                                      port_alloc=({'fh': 'w_port_1', 'tl': 'r_port_1', 'fl': 'w_port_2', 'th': 'r_port_2'},),\n",
    "                                      served_dimensions={(0, 1)})\n",
    "\n",
    "    memory_hierarchy_graph.add_memory(memory_instance=reg_2B, operands=('I1',),\n",
    "                                      port_alloc=({'fh': 'w_port_1', 'tl': 'r_port_1', 'fl': 'w_port_2', 'th': 'r_port_2'},),\n",
    "                                      served_dimensions={(1, 0)})\n",
    "\n",
    "    memory_hierarchy_graph.add_memory(memory_instance=sram_2M_with_16_128K_bank_128_1r_1w, operands=('I1', 'O'),\n",
    "                                      port_alloc=({'fh': 'w_port_1', 'tl': 'r_port_1', 'fl': None, 'th': None},\n",
    "                                                  {'fh': 'w_port_1', 'tl': 'r_port_1', 'fl': 'w_port_1', 'th': 'r_port_1'},),\n",
    "                                      served_dimensions='all')\n",
    "\n",
    "    memory_hierarchy_graph.add_memory(memory_instance=dram, operands=('I1', 'I2', 'O'),\n",
    "                                      port_alloc=({'fh': 'rw_port_1', 'tl': 'rw_port_1', 'fl': None, 'th': None},\n",
    "                                                  {'fh': 'rw_port_1', 'tl': 'rw_port_1', 'fl': None, 'th': None},\n",
    "                                                  {'fh': 'rw_port_1', 'tl': 'rw_port_1', 'fl': 'rw_port_1', 'th': 'rw_port_1'},),\n",
    "                                      served_dimensions='all')\n",
    "\n",
    "    from zigzag.visualization.graph.memory_hierarchy import visualize_memory_hierarchy_graph\n",
    "    visualize_memory_hierarchy_graph(memory_hierarchy_graph)\n",
    "    return memory_hierarchy_graph\n",
    "\n",
    "\n",
    "def multiplier_array_dut():\n",
    "    \"\"\" Multiplier array variables \"\"\"\n",
    "    multiplier_input_precision = [8, 8]\n",
    "    multiplier_energy = 0.04\n",
    "    multiplier_area = 1\n",
    "    dimensions = {'D1': 32, 'D2': 32}  # {'D1': ('K', 32), 'D2': ('C', 32)}\n",
    "\n",
    "    multiplier = Multiplier(multiplier_input_precision, multiplier_energy, multiplier_area)\n",
    "    multiplier_array = MultiplierArray(multiplier, dimensions)\n",
    "\n",
    "    return multiplier_array\n",
    "\n",
    "\n",
    "def cores():\n",
    "    multiplier_array1 = multiplier_array_dut()\n",
    "    memory_hierarchy1 = memory_hierarchy_dut(multiplier_array1)\n",
    "    core1 = Core(1, multiplier_array1, memory_hierarchy1)\n",
    "    return {core1}\n",
    "\n",
    "\n",
    "cores = cores()\n",
    "global_buffer = None\n",
    "acc_name = 'our_own_accelerator'\n",
    "accelerator = Accelerator(acc_name, cores, global_buffer)"
   ],
   "metadata": {
    "collapsed": false
   }
  },
  {
   "cell_type": "code",
   "execution_count": null,
   "outputs": [],
   "source": [],
   "metadata": {
    "collapsed": false
   }
  }
 ],
 "metadata": {
  "kernelspec": {
   "display_name": "Python 3 (ipykernel)",
   "language": "python",
   "name": "python3"
  },
  "language_info": {
   "codemirror_mode": {
    "name": "ipython",
    "version": 3
   },
   "file_extension": ".py",
   "mimetype": "text/x-python",
   "name": "python",
   "nbconvert_exporter": "python",
   "pygments_lexer": "ipython3",
   "version": "3.9.5"
  }
 },
 "nbformat": 4,
 "nbformat_minor": 5
}
