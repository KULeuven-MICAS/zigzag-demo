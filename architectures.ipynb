{
 "cells": [
  {
   "cell_type": "markdown",
   "metadata": {},
   "source": [
    "# ZigZag API Demonstration: \n",
    "## A hardware architecture comparison demo\n",
    "In this demo, we use ZigZag to optimize the mapping of AlexNet onto a TPU-like architecture.\n",
    "Any ONNX model can be supplied, alongside an already implemented architecture, or a custom architecture, wich we don't get into in this first demonstration.\n"
   ]
  },
  {
   "cell_type": "code",
   "execution_count": 4,
   "metadata": {},
   "outputs": [],
   "source": [
    "# Load in the AlexNet ONNX model. (taken from onnx model zoo)\n",
    "import onnx\n",
    "onnx_model_path = \"alexnet.onnx\"\n",
    "onnx_model = onnx.load(onnx_model_path, load_external_data=False)"
   ]
  },
  {
   "cell_type": "markdown",
   "metadata": {},
   "source": [
    "Next, we evaluate the hardware performance (in terms of energy (pJ) and latency (cycles)) of different accelerator architectures by calling the ZigZag API with standard-included architectures:\n",
    "\n",
    "- TPU\n",
    "- Edge TPU\n",
    "- Tesla NPU\n",
    "- Meta Prototype"
   ]
  },
  {
   "cell_type": "code",
   "execution_count": 5,
   "metadata": {},
   "outputs": [
    {
     "name": "stderr",
     "output_type": "stream",
     "text": [
      "2022-11-06 23:42:17,296 - generate_layer_node_for_conv +171 - INFO - Parsed convolutional node \n",
      "2022-11-06 23:42:17,298 - generate_layer_node_for_conv +171 - INFO - Parsed convolutional node \n",
      "2022-11-06 23:42:17,300 - generate_layer_node_for_conv +171 - INFO - Parsed convolutional node \n",
      "2022-11-06 23:42:17,301 - generate_layer_node_for_conv +171 - INFO - Parsed convolutional node \n",
      "2022-11-06 23:42:17,303 - generate_layer_node_for_conv +171 - INFO - Parsed convolutional node \n",
      "2022-11-06 23:42:17,305 - generate_layer_node_for_gemm +91 - INFO - Parsed Gemm node \n",
      "2022-11-06 23:42:17,306 - generate_layer_node_for_gemm +91 - INFO - Parsed Gemm node \n",
      "2022-11-06 23:42:17,308 - generate_layer_node_for_gemm +91 - INFO - Parsed Gemm node \n",
      "2022-11-06 23:42:17,309 - parse_workload_from_onnx_model_and_mapping +101 - INFO - Created ONNXWorkload graph with 24 nodes and 23 edges.\n",
      "2022-11-06 23:42:17,312 - parse_accelerator_from_path +56 - INFO - Parsed accelerator with cores [1].\n",
      "2022-11-06 23:42:17,313 - run +29 - INFO - Processing layer ...\n",
      "2022-11-06 23:42:17,313 - run +80 - INFO - Launching spatial mapping 1/1: {'D1': ('K', 32), 'D2': ('C', 32)}.\n",
      "720it [00:01, 508.33it/s]\n",
      "2022-11-06 23:42:18,735 - run +40 - INFO - Saved CME with energy 7.235e+07 and latency 1.115e+06 to outputs/2022-11-06T23-42-18.734525.json.\n",
      "2022-11-06 23:42:18,736 - run +29 - INFO - Processing layer ...\n",
      "2022-11-06 23:42:18,736 - run +80 - INFO - Launching spatial mapping 1/1: {'D1': ('K', 32), 'D2': ('C', 32)}.\n",
      "100%|██████████| 5040/5040 [00:12<00:00, 419.04it/s]\n",
      "2022-11-06 23:42:30,770 - run +40 - INFO - Saved CME with energy 8.840e+07 and latency 3.001e+05 to outputs/2022-11-06T23-42-30.768287.json.\n",
      "2022-11-06 23:42:30,774 - run +29 - INFO - Processing layer ...\n",
      "2022-11-06 23:42:30,775 - run +80 - INFO - Launching spatial mapping 1/1: {'D1': ('K', 32), 'D2': ('C', 32)}.\n",
      "100%|██████████| 720/720 [00:01<00:00, 509.03it/s]\n",
      "2022-11-06 23:42:32,197 - run +40 - INFO - Saved CME with energy 1.109e+08 and latency 1.411e+05 to outputs/2022-11-06T23-42-32.195748.json.\n",
      "2022-11-06 23:42:32,198 - run +29 - INFO - Processing layer ...\n",
      "2022-11-06 23:42:32,199 - run +80 - INFO - Launching spatial mapping 1/1: {'D1': ('K', 32), 'D2': ('C', 32)}.\n",
      "100%|██████████| 5040/5040 [00:10<00:00, 462.59it/s]\n",
      "2022-11-06 23:42:43,102 - run +40 - INFO - Saved CME with energy 8.628e+07 and latency 1.071e+05 to outputs/2022-11-06T23-42-43.101272.json.\n",
      "2022-11-06 23:42:43,103 - run +29 - INFO - Processing layer ...\n",
      "2022-11-06 23:42:43,104 - run +80 - INFO - Launching spatial mapping 1/1: {'D1': ('K', 32), 'D2': ('C', 32)}.\n",
      "100%|██████████| 5040/5040 [00:10<00:00, 487.13it/s]\n",
      "2022-11-06 23:42:53,458 - run +40 - INFO - Saved CME with energy 5.916e+07 and latency 7.373e+04 to outputs/2022-11-06T23-42-53.455902.json.\n",
      "2022-11-06 23:42:53,459 - run +29 - INFO - Processing layer ...\n",
      "2022-11-06 23:42:53,459 - run +80 - INFO - Launching spatial mapping 1/1: {'D1': ('K', 32), 'D2': ('C', 32)}.\n",
      "360it [00:00, 632.12it/s]\n",
      "2022-11-06 23:42:54,035 - run +40 - INFO - Saved CME with energy 3.317e+09 and latency 4.719e+06 to outputs/2022-11-06T23-42-54.033981.json.\n",
      "2022-11-06 23:42:54,035 - run +29 - INFO - Processing layer ...\n",
      "2022-11-06 23:42:54,036 - run +80 - INFO - Launching spatial mapping 1/1: {'D1': ('K', 32), 'D2': ('C', 32)}.\n",
      "180it [00:00, 744.64it/s]\n",
      "2022-11-06 23:42:54,284 - run +40 - INFO - Saved CME with energy 1.477e+09 and latency 2.098e+06 to outputs/2022-11-06T23-42-54.283423.json.\n",
      "2022-11-06 23:42:54,285 - run +29 - INFO - Processing layer ...\n",
      "2022-11-06 23:42:54,285 - run +80 - INFO - Launching spatial mapping 1/1: {'D1': ('K', 32), 'D2': ('C', 32)}.\n",
      "180it [00:00, 851.63it/s]\n",
      "2022-11-06 23:42:54,503 - run +40 - INFO - Saved CME with energy 3.608e+08 and latency 5.244e+05 to outputs/2022-11-06T23-42-54.502550.json.\n",
      "2022-11-06 23:42:54,505 - run +89 - INFO - Saved CostModelEvaluation with energy 5.571e+09 and latency 9.078e+06 to outputs/2022-11-06T23-42-54.504469.json\n",
      "2022-11-06 23:42:54,510 - run +141 - INFO - Saved pickled list of 8 CMEs to outputs/list_of_cmes.pickle.\n",
      "2022-11-06 23:42:54,511 - generate_layer_node_for_conv +171 - INFO - Parsed convolutional node \n",
      "2022-11-06 23:42:54,512 - generate_layer_node_for_conv +171 - INFO - Parsed convolutional node \n",
      "2022-11-06 23:42:54,513 - generate_layer_node_for_conv +171 - INFO - Parsed convolutional node \n",
      "2022-11-06 23:42:54,514 - generate_layer_node_for_conv +171 - INFO - Parsed convolutional node \n",
      "2022-11-06 23:42:54,515 - generate_layer_node_for_conv +171 - INFO - Parsed convolutional node \n",
      "2022-11-06 23:42:54,516 - generate_layer_node_for_gemm +91 - INFO - Parsed Gemm node \n",
      "2022-11-06 23:42:54,517 - generate_layer_node_for_gemm +91 - INFO - Parsed Gemm node \n",
      "2022-11-06 23:42:54,518 - generate_layer_node_for_gemm +91 - INFO - Parsed Gemm node \n",
      "2022-11-06 23:42:54,519 - parse_workload_from_onnx_model_and_mapping +101 - INFO - Created ONNXWorkload graph with 24 nodes and 23 edges.\n",
      "2022-11-06 23:42:54,525 - parse_accelerator_from_path +56 - INFO - Parsed accelerator with cores [1].\n",
      "2022-11-06 23:42:54,525 - run +29 - INFO - Processing layer ...\n",
      "2022-11-06 23:42:54,526 - run +80 - INFO - Launching spatial mapping 1/1: {'D1': ('K', 8), 'D2': ('C', 8), 'D3': ('OX', 4), 'D4': ('OY', 4)}.\n"
     ]
    },
    {
     "name": "stdout",
     "output_type": "stream",
     "text": [
      "Total onnx model (energy, latency) performance = (5.571e+09, 9.078e+06).\n"
     ]
    },
    {
     "name": "stderr",
     "output_type": "stream",
     "text": [
      "720it [00:01, 518.09it/s]\n",
      "2022-11-06 23:42:55,922 - run +40 - INFO - Saved CME with energy 6.628e+07 and latency 3.409e+05 to outputs/2022-11-06T23-42-55.921048.json.\n",
      "2022-11-06 23:42:55,923 - run +29 - INFO - Processing layer ...\n",
      "2022-11-06 23:42:55,925 - run +80 - INFO - Launching spatial mapping 1/1: {'D1': ('K', 8), 'D2': ('C', 8), 'D3': ('OX', 4), 'D4': ('OY', 4)}.\n",
      "100%|██████████| 5040/5040 [00:10<00:00, 462.89it/s]\n",
      "2022-11-06 23:43:06,819 - run +40 - INFO - Saved CME with energy 9.223e+07 and latency 2.684e+05 to outputs/2022-11-06T23-43-06.817843.json.\n",
      "2022-11-06 23:43:06,821 - run +29 - INFO - Processing layer ...\n",
      "2022-11-06 23:43:06,822 - run +80 - INFO - Launching spatial mapping 1/1: {'D1': ('K', 8), 'D2': ('C', 8), 'D3': ('OX', 4), 'D4': ('OY', 4)}.\n",
      "100%|██████████| 720/720 [00:01<00:00, 523.94it/s]\n",
      "2022-11-06 23:43:08,202 - run +40 - INFO - Saved CME with energy 1.224e+08 and latency 1.372e+05 to outputs/2022-11-06T23-43-08.200641.json.\n",
      "2022-11-06 23:43:08,204 - run +29 - INFO - Processing layer ...\n",
      "2022-11-06 23:43:08,204 - run +80 - INFO - Launching spatial mapping 1/1: {'D1': ('K', 8), 'D2': ('C', 8), 'D3': ('OX', 4), 'D4': ('OY', 4)}.\n",
      "100%|██████████| 5040/5040 [00:10<00:00, 484.85it/s]\n",
      "2022-11-06 23:43:18,605 - run +40 - INFO - Saved CME with energy 9.485e+07 and latency 1.071e+05 to outputs/2022-11-06T23-43-18.604492.json.\n",
      "2022-11-06 23:43:18,606 - run +29 - INFO - Processing layer ...\n",
      "2022-11-06 23:43:18,607 - run +80 - INFO - Launching spatial mapping 1/1: {'D1': ('K', 8), 'D2': ('C', 8), 'D3': ('OX', 4), 'D4': ('OY', 4)}.\n",
      "100%|██████████| 5040/5040 [00:09<00:00, 511.36it/s]\n",
      "2022-11-06 23:43:28,471 - run +40 - INFO - Saved CME with energy 6.487e+07 and latency 7.373e+04 to outputs/2022-11-06T23-43-28.469541.json.\n",
      "2022-11-06 23:43:28,472 - run +29 - INFO - Processing layer ...\n",
      "2022-11-06 23:43:28,473 - run +80 - INFO - Launching spatial mapping 1/1: {'D1': ('K', 8), 'D2': ('C', 8), 'D3': ('OX', 4), 'D4': ('OY', 4)}.\n",
      "720it [00:00, 727.31it/s]\n",
      "2022-11-06 23:43:29,470 - run +40 - INFO - Saved CME with energy 3.363e+09 and latency 4.719e+06 to outputs/2022-11-06T23-43-29.469521.json.\n",
      "2022-11-06 23:43:29,471 - run +29 - INFO - Processing layer ...\n",
      "2022-11-06 23:43:29,472 - run +80 - INFO - Launching spatial mapping 1/1: {'D1': ('K', 8), 'D2': ('C', 8), 'D3': ('OX', 4), 'D4': ('OY', 4)}.\n",
      "720it [00:01, 697.22it/s]\n",
      "2022-11-06 23:43:30,511 - run +40 - INFO - Saved CME with energy 1.496e+09 and latency 2.098e+06 to outputs/2022-11-06T23-43-30.510023.json.\n",
      "2022-11-06 23:43:30,512 - run +29 - INFO - Processing layer ...\n",
      "2022-11-06 23:43:30,512 - run +80 - INFO - Launching spatial mapping 1/1: {'D1': ('K', 8), 'D2': ('C', 8), 'D3': ('OX', 4), 'D4': ('OY', 4)}.\n",
      "120it [00:00, 681.43it/s]\n",
      "2022-11-06 23:43:30,694 - run +40 - INFO - Saved CME with energy 3.650e+08 and latency 5.122e+05 to outputs/2022-11-06T23-43-30.693283.json.\n",
      "2022-11-06 23:43:30,696 - run +89 - INFO - Saved CostModelEvaluation with energy 5.665e+09 and latency 8.257e+06 to outputs/2022-11-06T23-43-30.695616.json\n",
      "2022-11-06 23:43:30,701 - run +141 - INFO - Saved pickled list of 8 CMEs to outputs/list_of_cmes.pickle.\n",
      "2022-11-06 23:43:30,705 - generate_layer_node_for_conv +171 - INFO - Parsed convolutional node \n",
      "2022-11-06 23:43:30,706 - generate_layer_node_for_conv +171 - INFO - Parsed convolutional node \n",
      "2022-11-06 23:43:30,707 - generate_layer_node_for_conv +171 - INFO - Parsed convolutional node \n",
      "2022-11-06 23:43:30,708 - generate_layer_node_for_conv +171 - INFO - Parsed convolutional node \n",
      "2022-11-06 23:43:30,710 - generate_layer_node_for_conv +171 - INFO - Parsed convolutional node \n",
      "2022-11-06 23:43:30,711 - generate_layer_node_for_gemm +91 - INFO - Parsed Gemm node \n",
      "2022-11-06 23:43:30,711 - generate_layer_node_for_gemm +91 - INFO - Parsed Gemm node \n",
      "2022-11-06 23:43:30,712 - generate_layer_node_for_gemm +91 - INFO - Parsed Gemm node \n",
      "2022-11-06 23:43:30,713 - parse_workload_from_onnx_model_and_mapping +101 - INFO - Created ONNXWorkload graph with 24 nodes and 23 edges.\n",
      "2022-11-06 23:43:30,716 - parse_accelerator_from_path +56 - INFO - Parsed accelerator with cores [1].\n",
      "2022-11-06 23:43:30,717 - run +29 - INFO - Processing layer ...\n",
      "2022-11-06 23:43:30,718 - run +80 - INFO - Launching spatial mapping 1/1: {'D1': ('K', 32), 'D2': ('OX', 8), 'D3': ('OY', 4)}.\n"
     ]
    },
    {
     "name": "stdout",
     "output_type": "stream",
     "text": [
      "Total onnx model (energy, latency) performance = (5.665e+09, 8.257e+06).\n"
     ]
    },
    {
     "name": "stderr",
     "output_type": "stream",
     "text": [
      "100%|██████████| 720/720 [00:01<00:00, 471.25it/s]\n",
      "2022-11-06 23:43:32,255 - run +40 - INFO - Saved CME with energy 6.121e+07 and latency 1.630e+05 to outputs/2022-11-06T23-43-32.254349.json.\n",
      "2022-11-06 23:43:32,256 - run +29 - INFO - Processing layer ...\n",
      "2022-11-06 23:43:32,256 - run +80 - INFO - Launching spatial mapping 1/1: {'D1': ('K', 32), 'D2': ('OX', 8), 'D3': ('OY', 4)}.\n",
      "100%|██████████| 5040/5040 [00:10<00:00, 479.73it/s]\n",
      "2022-11-06 23:43:42,768 - run +40 - INFO - Saved CME with energy 8.031e+07 and latency 3.131e+05 to outputs/2022-11-06T23-43-42.767096.json.\n",
      "2022-11-06 23:43:42,770 - run +29 - INFO - Processing layer ...\n",
      "2022-11-06 23:43:42,770 - run +80 - INFO - Launching spatial mapping 1/1: {'D1': ('K', 32), 'D2': ('OX', 8), 'D3': ('OY', 4)}.\n",
      "100%|██████████| 720/720 [00:01<00:00, 488.80it/s]\n",
      "2022-11-06 23:43:44,250 - run +40 - INFO - Saved CME with energy 1.163e+08 and latency 2.834e+05 to outputs/2022-11-06T23-43-44.249009.json.\n",
      "2022-11-06 23:43:44,251 - run +29 - INFO - Processing layer ...\n",
      "2022-11-06 23:43:44,251 - run +80 - INFO - Launching spatial mapping 1/1: {'D1': ('K', 32), 'D2': ('OX', 8), 'D3': ('OY', 4)}.\n",
      "100%|██████████| 5040/5040 [00:10<00:00, 487.81it/s]\n",
      "2022-11-06 23:43:54,591 - run +40 - INFO - Saved CME with energy 6.149e+07 and latency 1.728e+05 to outputs/2022-11-06T23-43-54.588996.json.\n",
      "2022-11-06 23:43:54,592 - run +29 - INFO - Processing layer ...\n",
      "2022-11-06 23:43:54,593 - run +80 - INFO - Launching spatial mapping 1/1: {'D1': ('K', 32), 'D2': ('OX', 8), 'D3': ('OY', 4)}.\n",
      "100%|██████████| 5040/5040 [00:10<00:00, 476.60it/s]\n",
      "2022-11-06 23:44:05,175 - run +40 - INFO - Saved CME with energy 4.263e+07 and latency 1.152e+05 to outputs/2022-11-06T23-44-05.173866.json.\n",
      "2022-11-06 23:44:05,176 - run +29 - INFO - Processing layer ...\n",
      "2022-11-06 23:44:05,176 - run +80 - INFO - Launching spatial mapping 1/1: {'D1': ('K', 32), 'D2': ('OX', 8), 'D3': ('OY', 4)}.\n",
      "180it [00:00, 705.64it/s]\n",
      "2022-11-06 23:44:05,438 - run +40 - INFO - Saved CME with energy 3.675e+09 and latency 4.720e+06 to outputs/2022-11-06T23-44-05.437245.json.\n",
      "2022-11-06 23:44:05,439 - run +29 - INFO - Processing layer ...\n",
      "2022-11-06 23:44:05,440 - run +80 - INFO - Launching spatial mapping 1/1: {'D1': ('K', 32), 'D2': ('OX', 8), 'D3': ('OY', 4)}.\n",
      "60it [00:00, 384.43it/s]\n",
      "2022-11-06 23:44:05,602 - run +40 - INFO - Saved CME with energy 1.634e+09 and latency 2.102e+06 to outputs/2022-11-06T23-44-05.600674.json.\n",
      "2022-11-06 23:44:05,603 - run +29 - INFO - Processing layer ...\n",
      "2022-11-06 23:44:05,604 - run +80 - INFO - Launching spatial mapping 1/1: {'D1': ('K', 32), 'D2': ('OX', 8), 'D3': ('OY', 4)}.\n",
      "60it [00:00, 721.10it/s]              \n",
      "2022-11-06 23:44:05,693 - run +40 - INFO - Saved CME with energy 3.999e+08 and latency 5.285e+05 to outputs/2022-11-06T23-44-05.692065.json.\n",
      "2022-11-06 23:44:05,695 - run +89 - INFO - Saved CostModelEvaluation with energy 6.071e+09 and latency 8.398e+06 to outputs/2022-11-06T23-44-05.695315.json\n",
      "2022-11-06 23:44:05,703 - run +141 - INFO - Saved pickled list of 8 CMEs to outputs/list_of_cmes.pickle.\n",
      "2022-11-06 23:44:05,705 - generate_layer_node_for_conv +171 - INFO - Parsed convolutional node \n",
      "2022-11-06 23:44:05,707 - generate_layer_node_for_conv +171 - INFO - Parsed convolutional node \n",
      "2022-11-06 23:44:05,708 - generate_layer_node_for_conv +171 - INFO - Parsed convolutional node \n",
      "2022-11-06 23:44:05,709 - generate_layer_node_for_conv +171 - INFO - Parsed convolutional node \n",
      "2022-11-06 23:44:05,710 - generate_layer_node_for_conv +171 - INFO - Parsed convolutional node \n",
      "2022-11-06 23:44:05,711 - generate_layer_node_for_gemm +91 - INFO - Parsed Gemm node \n",
      "2022-11-06 23:44:05,712 - generate_layer_node_for_gemm +91 - INFO - Parsed Gemm node \n",
      "2022-11-06 23:44:05,713 - generate_layer_node_for_gemm +91 - INFO - Parsed Gemm node \n",
      "2022-11-06 23:44:05,713 - parse_workload_from_onnx_model_and_mapping +101 - INFO - Created ONNXWorkload graph with 24 nodes and 23 edges.\n",
      "2022-11-06 23:44:05,718 - parse_accelerator_from_path +56 - INFO - Parsed accelerator with cores [1].\n",
      "2022-11-06 23:44:05,719 - run +29 - INFO - Processing layer ...\n",
      "2022-11-06 23:44:05,719 - run +80 - INFO - Launching spatial mapping 1/1: {'D1': ('K', 32), 'D2': ('C', 2), 'D3': ('OX', 4), 'D4': ('OY', 4)}.\n"
     ]
    },
    {
     "name": "stdout",
     "output_type": "stream",
     "text": [
      "Total onnx model (energy, latency) performance = (6.071e+09, 8.398e+06).\n"
     ]
    },
    {
     "name": "stderr",
     "output_type": "stream",
     "text": [
      "100%|██████████| 720/720 [00:01<00:00, 507.91it/s]\n",
      "2022-11-06 23:44:07,143 - run +40 - INFO - Saved CME with energy 5.559e+07 and latency 2.054e+05 to outputs/2022-11-06T23-44-07.142256.json.\n",
      "2022-11-06 23:44:07,144 - run +29 - INFO - Processing layer ...\n",
      "2022-11-06 23:44:07,145 - run +80 - INFO - Launching spatial mapping 1/1: {'D1': ('K', 32), 'D2': ('C', 2), 'D3': ('OX', 4), 'D4': ('OY', 4)}.\n",
      "100%|██████████| 5040/5040 [00:10<00:00, 470.49it/s]\n",
      "2022-11-06 23:44:17,863 - run +40 - INFO - Saved CME with energy 5.838e+07 and latency 2.801e+05 to outputs/2022-11-06T23-44-17.862011.json.\n",
      "2022-11-06 23:44:17,865 - run +29 - INFO - Processing layer ...\n",
      "2022-11-06 23:44:17,865 - run +80 - INFO - Launching spatial mapping 1/1: {'D1': ('K', 32), 'D2': ('C', 2), 'D3': ('OX', 4), 'D4': ('OY', 4)}.\n",
      "100%|██████████| 720/720 [00:01<00:00, 451.45it/s]\n",
      "2022-11-06 23:44:19,466 - run +40 - INFO - Saved CME with energy 1.183e+08 and latency 2.419e+05 to outputs/2022-11-06T23-44-19.465535.json.\n",
      "2022-11-06 23:44:19,467 - run +29 - INFO - Processing layer ...\n",
      "2022-11-06 23:44:19,468 - run +80 - INFO - Launching spatial mapping 1/1: {'D1': ('K', 32), 'D2': ('C', 2), 'D3': ('OX', 4), 'D4': ('OY', 4)}.\n",
      "100%|██████████| 5040/5040 [00:11<00:00, 438.72it/s]\n",
      "2022-11-06 23:44:30,962 - run +40 - INFO - Saved CME with energy 5.088e+07 and latency 1.426e+05 to outputs/2022-11-06T23-44-30.960608.json.\n",
      "2022-11-06 23:44:30,963 - run +29 - INFO - Processing layer ...\n",
      "2022-11-06 23:44:30,963 - run +80 - INFO - Launching spatial mapping 1/1: {'D1': ('K', 32), 'D2': ('C', 2), 'D3': ('OX', 4), 'D4': ('OY', 4)}.\n",
      "100%|██████████| 5040/5040 [00:12<00:00, 405.47it/s]\n",
      "2022-11-06 23:44:43,400 - run +40 - INFO - Saved CME with energy 3.560e+07 and latency 9.533e+04 to outputs/2022-11-06T23-44-43.398858.json.\n",
      "2022-11-06 23:44:43,402 - run +29 - INFO - Processing layer ...\n",
      "2022-11-06 23:44:43,402 - run +80 - INFO - Launching spatial mapping 1/1: {'D1': ('K', 32), 'D2': ('C', 2), 'D3': ('OX', 4), 'D4': ('OY', 4)}.\n",
      "360it [00:00, 474.69it/s]\n",
      "2022-11-06 23:44:44,167 - run +40 - INFO - Saved CME with energy 3.470e+09 and latency 4.720e+06 to outputs/2022-11-06T23-44-44.166340.json.\n",
      "2022-11-06 23:44:44,169 - run +29 - INFO - Processing layer ...\n",
      "2022-11-06 23:44:44,169 - run +80 - INFO - Launching spatial mapping 1/1: {'D1': ('K', 32), 'D2': ('C', 2), 'D3': ('OX', 4), 'D4': ('OY', 4)}.\n",
      "180it [00:00, 454.24it/s]\n",
      "2022-11-06 23:44:44,573 - run +40 - INFO - Saved CME with energy 1.590e+09 and latency 2.100e+06 to outputs/2022-11-06T23-44-44.571675.json.\n",
      "2022-11-06 23:44:44,575 - run +29 - INFO - Processing layer ...\n",
      "2022-11-06 23:44:44,575 - run +80 - INFO - Launching spatial mapping 1/1: {'D1': ('K', 32), 'D2': ('C', 2), 'D3': ('OX', 4), 'D4': ('OY', 4)}.\n",
      "180it [00:00, 558.60it/s]\n",
      "2022-11-06 23:44:44,904 - run +40 - INFO - Saved CME with energy 3.775e+08 and latency 5.266e+05 to outputs/2022-11-06T23-44-44.903348.json.\n",
      "2022-11-06 23:44:44,907 - run +89 - INFO - Saved CostModelEvaluation with energy 5.757e+09 and latency 8.312e+06 to outputs/2022-11-06T23-44-44.906803.json\n",
      "2022-11-06 23:44:44,912 - run +141 - INFO - Saved pickled list of 8 CMEs to outputs/list_of_cmes.pickle.\n"
     ]
    },
    {
     "name": "stdout",
     "output_type": "stream",
     "text": [
      "Total onnx model (energy, latency) performance = (5.757e+09, 8.312e+06).\n"
     ]
    }
   ],
   "source": [
    "from zigzag.api import get_hardware_performance\n",
    "from zigzag.inputs.examples.mapping.alexnet_on_tpu_like import mapping as mapping_tpu\n",
    "from zigzag.inputs.examples.mapping.alexnet_on_edge_tpu_like import mapping as mapping_edge_tpu\n",
    "from zigzag.inputs.examples.mapping.alexnet_on_tesla_npu import mapping as mapping_tesla_npu\n",
    "from zigzag.inputs.examples.mapping.alexnet_on_meta_prototype import mapping as mapping_meta_prototype\n",
    "\n",
    "\n",
    "# List of hardware architectures we run our experiment for\n",
    "hardwares = [\"tpu\", \"edge-tpu\", \"tesla-npu\", \"meta-prototype\"]\n",
    "# List of mappings for each hardware (encodes the spatial dataflow)\n",
    "mappings = [mapping_tpu, mapping_edge_tpu, mapping_tesla_npu, mapping_meta_prototype]\n",
    "\n",
    "cmes = []\n",
    "for (hardware, mapping) in zip(hardwares, mappings):\n",
    "    # Pickle filename to save list of cmes\n",
    "    pickle_filename = \"outputs/list_of_cmes.pickle\"\n",
    "    # Call the zigzag api, using a provided accelerator and mapping\n",
    "    # energy, latency = get_hardware_performance(onnx_model, accelerator, mapping)\n",
    "    energy, latency, cme = get_hardware_performance(onnx_model, hardware, mapping=mapping, opt='latency', pickle_filename=pickle_filename)\n",
    "    print(f\"Total onnx model (energy, latency) performance = ({energy:.3e}, {latency:.3e}).\")\n",
    "    cmes.append(cme)"
   ]
  },
  {
   "cell_type": "markdown",
   "metadata": {},
   "source": [
    "### Visualizing the results\n",
    "Inside the repo, we have provided a visualization script, that can automatically visualize these best \"cost model evaluations\" found by ZigZag.\n",
    "\n",
    "We use the generated list of cost model evaluations (representing the total AlexNet performance for each architecture) from the previous step to visualize the energy and latency distribution across architectures.\n"
   ]
  },
  {
   "cell_type": "code",
   "execution_count": 6,
   "metadata": {},
   "outputs": [
    {
     "data": {
      "image/png": "[encoded data removed]",
      "text/plain": [
       "<Figure size 640x480 with 2 Axes>"
      ]
     },
     "metadata": {},
     "output_type": "display_data"
    }
   ],
   "source": [
    "from zigzag.visualization.results.plot_cme import bar_plot_cost_model_evaluations_total\n",
    "\n",
    "bar_plot_cost_model_evaluations_total(cmes, labels=hardwares, fig_title=\"Best latency mapping found\", save_path=\"plot_total.png\")"
   ]
  }
 ],
 "metadata": {
  "kernelspec": {
   "display_name": "Python 3.9.13 ('test-dist')",
   "language": "python",
   "name": "python3"
  },
  "language_info": {
   "codemirror_mode": {
    "name": "ipython",
    "version": 3
   },
   "file_extension": ".py",
   "mimetype": "text/x-python",
   "name": "python",
   "nbconvert_exporter": "python",
   "pygments_lexer": "ipython3",
   "version": "3.9.13"
  },
  "orig_nbformat": 4,
  "vscode": {
   "interpreter": {
    "hash": "b26761be4d443acf432ac781032848e900072d917af91210c21de14e94fbc877"
   }
  }
 },
 "nbformat": 4,
 "nbformat_minor": 2
}
