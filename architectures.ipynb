{
 "cells": [
  {
   "cell_type": "markdown",
   "metadata": {},
   "source": [
    "# ZigZag API Demonstration: \n",
    "## A hardware architecture comparison demo\n",
    "In this demo, we use ZigZag to optimize the mapping of AlexNet onto a TPU-like architecture.\n",
    "Any ONNX model can be supplied, alongside an already implemented architecture, or a custom architecture, wich we don't get into in this first demonstration.\n"
   ]
  },
  {
   "cell_type": "code",
   "execution_count": 2,
   "metadata": {},
   "outputs": [],
   "source": [
    "# Load in the AlexNet ONNX model. (taken from onnx model zoo)\n",
    "import onnx\n",
    "onnx_model_path = \"alexnet.onnx\"\n",
    "onnx_model = onnx.load(onnx_model_path, load_external_data=False)"
   ]
  },
  {
   "cell_type": "markdown",
   "metadata": {},
   "source": [
    "Next, we evaluate the hardware performance (in terms of energy (pJ) and latency (cycles)) of different accelerator architectures by calling the ZigZag API with standard-included architectures:\n",
    "\n",
    "- TPU\n",
    "- Edge TPU\n",
    "- Tesla NPU\n",
    "- Meta Prototype"
   ]
  },
  {
   "cell_type": "code",
   "execution_count": 3,
   "metadata": {},
   "outputs": [
    {
     "name": "stderr",
     "output_type": "stream",
     "text": [
      "2022-11-06 23:31:49,951 - generate_layer_node_for_conv +171 - INFO - Parsed convolutional node \n",
      "2022-11-06 23:31:49,952 - generate_layer_node_for_conv +171 - INFO - Parsed convolutional node \n",
      "2022-11-06 23:31:49,953 - generate_layer_node_for_conv +171 - INFO - Parsed convolutional node \n",
      "2022-11-06 23:31:49,954 - generate_layer_node_for_conv +171 - INFO - Parsed convolutional node \n",
      "2022-11-06 23:31:49,955 - generate_layer_node_for_conv +171 - INFO - Parsed convolutional node \n",
      "2022-11-06 23:31:49,956 - generate_layer_node_for_gemm +91 - INFO - Parsed Gemm node \n",
      "2022-11-06 23:31:49,957 - generate_layer_node_for_gemm +91 - INFO - Parsed Gemm node \n",
      "2022-11-06 23:31:49,958 - generate_layer_node_for_gemm +91 - INFO - Parsed Gemm node \n",
      "2022-11-06 23:31:49,960 - parse_workload_from_onnx_model_and_mapping +101 - INFO - Created ONNXWorkload graph with 24 nodes and 23 edges.\n",
      "2022-11-06 23:31:49,963 - parse_accelerator_from_path +56 - INFO - Parsed accelerator with cores [1].\n",
      "2022-11-06 23:31:49,964 - run +29 - INFO - Processing layer ...\n",
      "2022-11-06 23:31:49,965 - run +80 - INFO - Launching spatial mapping 1/1: {'D1': ('K', 32), 'D2': ('C', 32)}.\n",
      "720it [00:01, 598.07it/s]                         \n",
      "2022-11-06 23:31:51,175 - run +40 - INFO - Saved CME with energy 7.235e+07 and latency 1.115e+06 to outputs/2022-11-06T23-31-51.174727.json.\n",
      "2022-11-06 23:31:51,176 - run +29 - INFO - Processing layer ...\n",
      "2022-11-06 23:31:51,177 - run +80 - INFO - Launching spatial mapping 1/1: {'D1': ('K', 32), 'D2': ('C', 32)}.\n",
      "100%|██████████| 5040/5040 [00:08<00:00, 595.44it/s]\n",
      "2022-11-06 23:31:59,647 - run +40 - INFO - Saved CME with energy 8.840e+07 and latency 3.001e+05 to outputs/2022-11-06T23-31-59.645889.json.\n",
      "2022-11-06 23:31:59,648 - run +29 - INFO - Processing layer ...\n",
      "2022-11-06 23:31:59,649 - run +80 - INFO - Launching spatial mapping 1/1: {'D1': ('K', 32), 'D2': ('C', 32)}.\n",
      "100%|██████████| 720/720 [00:01<00:00, 625.68it/s]\n",
      "2022-11-06 23:32:00,804 - run +40 - INFO - Saved CME with energy 1.109e+08 and latency 1.411e+05 to outputs/2022-11-06T23-32-00.803292.json.\n",
      "2022-11-06 23:32:00,805 - run +29 - INFO - Processing layer ...\n",
      "2022-11-06 23:32:00,806 - run +80 - INFO - Launching spatial mapping 1/1: {'D1': ('K', 32), 'D2': ('C', 32)}.\n",
      "100%|██████████| 5040/5040 [00:08<00:00, 610.88it/s]\n",
      "2022-11-06 23:32:09,061 - run +40 - INFO - Saved CME with energy 8.628e+07 and latency 1.071e+05 to outputs/2022-11-06T23-32-09.060623.json.\n",
      "2022-11-06 23:32:09,063 - run +29 - INFO - Processing layer ...\n",
      "2022-11-06 23:32:09,063 - run +80 - INFO - Launching spatial mapping 1/1: {'D1': ('K', 32), 'D2': ('C', 32)}.\n",
      " 46%|████▌     | 2318/5040 [00:04<00:05, 544.17it/s]"
     ]
    },
    {
     "ename": "KeyboardInterrupt",
     "evalue": "",
     "output_type": "error",
     "traceback": [
      "\u001b[0;31m---------------------------------------------------------------------------\u001b[0m",
      "\u001b[0;31mKeyboardInterrupt\u001b[0m                         Traceback (most recent call last)",
      "\u001b[1;32m/home/asymons/playground/test/architectures.ipynb Cell 4\u001b[0m in \u001b[0;36m<cell line: 14>\u001b[0;34m()\u001b[0m\n\u001b[1;32m     <a href='vscode-notebook-cell://wsl%2Bubuntu/home/asymons/playground/test/architectures.ipynb#W3sdnNjb2RlLXJlbW90ZQ%3D%3D?line=15'>16</a>\u001b[0m pickle_filename \u001b[39m=\u001b[39m \u001b[39m\"\u001b[39m\u001b[39moutputs/list_of_cmes.pickle\u001b[39m\u001b[39m\"\u001b[39m\n\u001b[1;32m     <a href='vscode-notebook-cell://wsl%2Bubuntu/home/asymons/playground/test/architectures.ipynb#W3sdnNjb2RlLXJlbW90ZQ%3D%3D?line=16'>17</a>\u001b[0m \u001b[39m# Call the zigzag api, using a provided accelerator and mapping\u001b[39;00m\n\u001b[1;32m     <a href='vscode-notebook-cell://wsl%2Bubuntu/home/asymons/playground/test/architectures.ipynb#W3sdnNjb2RlLXJlbW90ZQ%3D%3D?line=17'>18</a>\u001b[0m \u001b[39m# energy, latency = get_hardware_performance(onnx_model, accelerator, mapping)\u001b[39;00m\n\u001b[0;32m---> <a href='vscode-notebook-cell://wsl%2Bubuntu/home/asymons/playground/test/architectures.ipynb#W3sdnNjb2RlLXJlbW90ZQ%3D%3D?line=18'>19</a>\u001b[0m energy, latency, cme \u001b[39m=\u001b[39m get_hardware_performance(onnx_model, hardware, mapping\u001b[39m=\u001b[39;49mmapping, opt\u001b[39m=\u001b[39;49m\u001b[39m'\u001b[39;49m\u001b[39mlatency\u001b[39;49m\u001b[39m'\u001b[39;49m, pickle_filename\u001b[39m=\u001b[39;49mpickle_filename)\n\u001b[1;32m     <a href='vscode-notebook-cell://wsl%2Bubuntu/home/asymons/playground/test/architectures.ipynb#W3sdnNjb2RlLXJlbW90ZQ%3D%3D?line=19'>20</a>\u001b[0m \u001b[39mprint\u001b[39m(\u001b[39mf\u001b[39m\u001b[39m\"\u001b[39m\u001b[39mTotal onnx model (energy, latency) performance = (\u001b[39m\u001b[39m{\u001b[39;00menergy\u001b[39m:\u001b[39;00m\u001b[39m.3e\u001b[39m\u001b[39m}\u001b[39;00m\u001b[39m, \u001b[39m\u001b[39m{\u001b[39;00mlatency\u001b[39m:\u001b[39;00m\u001b[39m.3e\u001b[39m\u001b[39m}\u001b[39;00m\u001b[39m).\u001b[39m\u001b[39m\"\u001b[39m)\n\u001b[1;32m     <a href='vscode-notebook-cell://wsl%2Bubuntu/home/asymons/playground/test/architectures.ipynb#W3sdnNjb2RlLXJlbW90ZQ%3D%3D?line=20'>21</a>\u001b[0m cmes\u001b[39m.\u001b[39mappend(cme)\n",
      "File \u001b[0;32m~/anaconda3/envs/test-dist/lib/python3.9/site-packages/zigzag/api.py:46\u001b[0m, in \u001b[0;36mget_hardware_performance\u001b[0;34m(onnx_model, accelerator, mapping, opt, dump_filename_pattern, pickle_filename)\u001b[0m\n\u001b[1;32m     22\u001b[0m mainstage \u001b[39m=\u001b[39m MainStage([  \u001b[39m# Initialize the MainStage as entry point\u001b[39;00m\n\u001b[1;32m     23\u001b[0m     ONNXModelParserStage,  \u001b[39m# Parse the ONNX Model into the workload\u001b[39;00m\n\u001b[1;32m     24\u001b[0m     AcceleratorParserStage,  \u001b[39m# Parse the accelerator module/passthrough given accelerator\u001b[39;00m\n\u001b[0;32m   (...)\u001b[0m\n\u001b[1;32m     42\u001b[0m     loma_show_progress_bar\u001b[39m=\u001b[39m\u001b[39mTrue\u001b[39;00m,\n\u001b[1;32m     43\u001b[0m )\n\u001b[1;32m     45\u001b[0m \u001b[39m# Launch the MainStage\u001b[39;00m\n\u001b[0;32m---> 46\u001b[0m answers \u001b[39m=\u001b[39m mainstage\u001b[39m.\u001b[39;49mrun()\n\u001b[1;32m     47\u001b[0m \u001b[39m# Sanity check on the results\u001b[39;00m\n\u001b[1;32m     48\u001b[0m \u001b[39massert\u001b[39;00m \u001b[39mlen\u001b[39m(answers) \u001b[39m==\u001b[39m \u001b[39m1\u001b[39m, \u001b[39m\"\u001b[39m\u001b[39mMainstage returned more than one CME.\u001b[39m\u001b[39m\"\u001b[39m\n",
      "File \u001b[0;32m~/anaconda3/envs/test-dist/lib/python3.9/site-packages/zigzag/classes/stages/Stage.py:53\u001b[0m, in \u001b[0;36mMainStage.run\u001b[0;34m(self)\u001b[0m\n\u001b[1;32m     51\u001b[0m \u001b[39mdef\u001b[39;00m \u001b[39mrun\u001b[39m(\u001b[39mself\u001b[39m):\n\u001b[1;32m     52\u001b[0m     answers \u001b[39m=\u001b[39m []\n\u001b[0;32m---> 53\u001b[0m     \u001b[39mfor\u001b[39;00m cme, extra_info \u001b[39min\u001b[39;00m \u001b[39mself\u001b[39m\u001b[39m.\u001b[39mlist_of_callables[\u001b[39m0\u001b[39m](\u001b[39mself\u001b[39m\u001b[39m.\u001b[39mlist_of_callables[\u001b[39m1\u001b[39m:], \u001b[39m*\u001b[39m\u001b[39m*\u001b[39m\u001b[39mself\u001b[39m\u001b[39m.\u001b[39mkwargs)\u001b[39m.\u001b[39mrun():\n\u001b[1;32m     54\u001b[0m         answers\u001b[39m.\u001b[39mappend((cme, extra_info))\n\u001b[1;32m     55\u001b[0m     \u001b[39mreturn\u001b[39;00m answers\n",
      "File \u001b[0;32m~/anaconda3/envs/test-dist/lib/python3.9/site-packages/zigzag/classes/stages/ONNXModelParserStage.py:21\u001b[0m, in \u001b[0;36mONNXModelParserStage.run\u001b[0;34m(self)\u001b[0m\n\u001b[1;32m     18\u001b[0m workload \u001b[39m=\u001b[39m \u001b[39mself\u001b[39m\u001b[39m.\u001b[39monnx_model_parser\u001b[39m.\u001b[39mget_workload()\n\u001b[1;32m     20\u001b[0m sub_stage \u001b[39m=\u001b[39m \u001b[39mself\u001b[39m\u001b[39m.\u001b[39mlist_of_callables[\u001b[39m0\u001b[39m](\u001b[39mself\u001b[39m\u001b[39m.\u001b[39mlist_of_callables[\u001b[39m1\u001b[39m:], onnx_model\u001b[39m=\u001b[39monnx_model, workload\u001b[39m=\u001b[39mworkload, \u001b[39m*\u001b[39m\u001b[39m*\u001b[39m\u001b[39mself\u001b[39m\u001b[39m.\u001b[39mkwargs)\n\u001b[0;32m---> 21\u001b[0m \u001b[39mfor\u001b[39;00m cme, extra_info \u001b[39min\u001b[39;00m sub_stage\u001b[39m.\u001b[39mrun():\n\u001b[1;32m     22\u001b[0m     \u001b[39myield\u001b[39;00m cme, extra_info\n",
      "File \u001b[0;32m~/anaconda3/envs/test-dist/lib/python3.9/site-packages/zigzag/classes/stages/MainInputParserStages.py:20\u001b[0m, in \u001b[0;36mAcceleratorParserStage.run\u001b[0;34m(self)\u001b[0m\n\u001b[1;32m     18\u001b[0m accelerator \u001b[39m=\u001b[39m \u001b[39mself\u001b[39m\u001b[39m.\u001b[39maccelerator_parser\u001b[39m.\u001b[39mget_accelerator()\n\u001b[1;32m     19\u001b[0m sub_stage \u001b[39m=\u001b[39m \u001b[39mself\u001b[39m\u001b[39m.\u001b[39mlist_of_callables[\u001b[39m0\u001b[39m](\u001b[39mself\u001b[39m\u001b[39m.\u001b[39mlist_of_callables[\u001b[39m1\u001b[39m:], accelerator\u001b[39m=\u001b[39maccelerator, \u001b[39m*\u001b[39m\u001b[39m*\u001b[39m\u001b[39mself\u001b[39m\u001b[39m.\u001b[39mkwargs)\n\u001b[0;32m---> 20\u001b[0m \u001b[39mfor\u001b[39;00m cme, extra_info \u001b[39min\u001b[39;00m sub_stage\u001b[39m.\u001b[39mrun():\n\u001b[1;32m     21\u001b[0m     \u001b[39myield\u001b[39;00m cme, extra_info\n",
      "File \u001b[0;32m~/anaconda3/envs/test-dist/lib/python3.9/site-packages/zigzag/classes/stages/SaveStage.py:85\u001b[0m, in \u001b[0;36mSimpleSaveStage.run\u001b[0;34m(self)\u001b[0m\n\u001b[1;32m     82\u001b[0m \u001b[39mself\u001b[39m\u001b[39m.\u001b[39mkwargs[\u001b[39m\"\u001b[39m\u001b[39mdump_filename_pattern\u001b[39m\u001b[39m\"\u001b[39m] \u001b[39m=\u001b[39m \u001b[39mself\u001b[39m\u001b[39m.\u001b[39mdump_filename_pattern\n\u001b[1;32m     83\u001b[0m substage \u001b[39m=\u001b[39m \u001b[39mself\u001b[39m\u001b[39m.\u001b[39mlist_of_callables[\u001b[39m0\u001b[39m](\u001b[39mself\u001b[39m\u001b[39m.\u001b[39mlist_of_callables[\u001b[39m1\u001b[39m:], \u001b[39m*\u001b[39m\u001b[39m*\u001b[39m\u001b[39mself\u001b[39m\u001b[39m.\u001b[39mkwargs)\n\u001b[0;32m---> 85\u001b[0m \u001b[39mfor\u001b[39;00m \u001b[39mid\u001b[39m, (cme, extra_info) \u001b[39min\u001b[39;00m \u001b[39menumerate\u001b[39m(substage\u001b[39m.\u001b[39mrun()):\n\u001b[1;32m     86\u001b[0m     cme: CostModelEvaluation\n\u001b[1;32m     87\u001b[0m     filename \u001b[39m=\u001b[39m \u001b[39mself\u001b[39m\u001b[39m.\u001b[39mdump_filename_pattern\u001b[39m.\u001b[39mformat(datetime\u001b[39m=\u001b[39mdatetime\u001b[39m.\u001b[39mnow()\u001b[39m.\u001b[39misoformat()\u001b[39m.\u001b[39mreplace(\u001b[39m\"\u001b[39m\u001b[39m:\u001b[39m\u001b[39m\"\u001b[39m, \u001b[39m\"\u001b[39m\u001b[39m-\u001b[39m\u001b[39m\"\u001b[39m))\n",
      "File \u001b[0;32m~/anaconda3/envs/test-dist/lib/python3.9/site-packages/zigzag/classes/stages/SaveStage.py:132\u001b[0m, in \u001b[0;36mPickleSaveStage.run\u001b[0;34m(self)\u001b[0m\n\u001b[1;32m    127\u001b[0m \u001b[39m\"\"\"\u001b[39;00m\n\u001b[1;32m    128\u001b[0m \u001b[39mRun the simple save stage by running the substage and saving the CostModelEvaluation simple json representation.\u001b[39;00m\n\u001b[1;32m    129\u001b[0m \u001b[39mThis should be placed above a ReduceStage such as the SumStage, as we assume the list of CMEs is passed as extra_info\u001b[39;00m\n\u001b[1;32m    130\u001b[0m \u001b[39m\"\"\"\u001b[39;00m\n\u001b[1;32m    131\u001b[0m substage \u001b[39m=\u001b[39m \u001b[39mself\u001b[39m\u001b[39m.\u001b[39mlist_of_callables[\u001b[39m0\u001b[39m](\u001b[39mself\u001b[39m\u001b[39m.\u001b[39mlist_of_callables[\u001b[39m1\u001b[39m:], \u001b[39m*\u001b[39m\u001b[39m*\u001b[39m\u001b[39mself\u001b[39m\u001b[39m.\u001b[39mkwargs)\n\u001b[0;32m--> 132\u001b[0m \u001b[39mfor\u001b[39;00m \u001b[39mid\u001b[39m, (cme, extra_info) \u001b[39min\u001b[39;00m \u001b[39menumerate\u001b[39m(substage\u001b[39m.\u001b[39mrun()):\n\u001b[1;32m    133\u001b[0m     all_cmes \u001b[39m=\u001b[39m [cme \u001b[39mfor\u001b[39;00m (cme, extra) \u001b[39min\u001b[39;00m extra_info]\n\u001b[1;32m    134\u001b[0m     \u001b[39myield\u001b[39;00m cme, extra_info\n",
      "File \u001b[0;32m~/anaconda3/envs/test-dist/lib/python3.9/site-packages/zigzag/classes/stages/ReduceStages.py:91\u001b[0m, in \u001b[0;36mSumStage.run\u001b[0;34m(self)\u001b[0m\n\u001b[1;32m     88\u001b[0m substage \u001b[39m=\u001b[39m \u001b[39mself\u001b[39m\u001b[39m.\u001b[39mlist_of_callables[\u001b[39m0\u001b[39m](\u001b[39mself\u001b[39m\u001b[39m.\u001b[39mlist_of_callables[\u001b[39m1\u001b[39m:], \u001b[39m*\u001b[39m\u001b[39m*\u001b[39m\u001b[39mself\u001b[39m\u001b[39m.\u001b[39mkwargs)\n\u001b[1;32m     90\u001b[0m all_cmes \u001b[39m=\u001b[39m []\n\u001b[0;32m---> 91\u001b[0m \u001b[39mfor\u001b[39;00m cme, extra_info \u001b[39min\u001b[39;00m substage\u001b[39m.\u001b[39mrun():\n\u001b[1;32m     92\u001b[0m     \u001b[39mif\u001b[39;00m \u001b[39mself\u001b[39m\u001b[39m.\u001b[39mtotal_cme \u001b[39mis\u001b[39;00m \u001b[39mNone\u001b[39;00m:\n\u001b[1;32m     93\u001b[0m         \u001b[39mself\u001b[39m\u001b[39m.\u001b[39mtotal_cme \u001b[39m=\u001b[39m cme\n",
      "File \u001b[0;32m~/anaconda3/envs/test-dist/lib/python3.9/site-packages/zigzag/classes/stages/WorkloadStage.py:31\u001b[0m, in \u001b[0;36mWorkloadStage.run\u001b[0;34m(self)\u001b[0m\n\u001b[1;32m     29\u001b[0m logger\u001b[39m.\u001b[39minfo(\u001b[39mf\u001b[39m\u001b[39m\"\u001b[39m\u001b[39mProcessing layer \u001b[39m\u001b[39m{\u001b[39;00mlayer\u001b[39m.\u001b[39mname\u001b[39m}\u001b[39;00m\u001b[39m...\u001b[39m\u001b[39m\"\u001b[39m)\n\u001b[1;32m     30\u001b[0m sub_stage \u001b[39m=\u001b[39m \u001b[39mself\u001b[39m\u001b[39m.\u001b[39mlist_of_callables[\u001b[39m0\u001b[39m](\u001b[39mself\u001b[39m\u001b[39m.\u001b[39mlist_of_callables[\u001b[39m1\u001b[39m:], \u001b[39m*\u001b[39m\u001b[39m*\u001b[39mkwargs)\n\u001b[0;32m---> 31\u001b[0m \u001b[39mfor\u001b[39;00m cme, extra_info \u001b[39min\u001b[39;00m sub_stage\u001b[39m.\u001b[39mrun():\n\u001b[1;32m     32\u001b[0m     \u001b[39myield\u001b[39;00m cme, (layer, extra_info)\n",
      "File \u001b[0;32m~/anaconda3/envs/test-dist/lib/python3.9/site-packages/zigzag/classes/stages/SaveStage.py:36\u001b[0m, in \u001b[0;36mCompleteSaveStage.run\u001b[0;34m(self)\u001b[0m\n\u001b[1;32m     33\u001b[0m \u001b[39mself\u001b[39m\u001b[39m.\u001b[39mkwargs[\u001b[39m\"\u001b[39m\u001b[39mdump_filename_pattern\u001b[39m\u001b[39m\"\u001b[39m] \u001b[39m=\u001b[39m \u001b[39mself\u001b[39m\u001b[39m.\u001b[39mdump_filename_pattern\n\u001b[1;32m     34\u001b[0m substage \u001b[39m=\u001b[39m \u001b[39mself\u001b[39m\u001b[39m.\u001b[39mlist_of_callables[\u001b[39m0\u001b[39m](\u001b[39mself\u001b[39m\u001b[39m.\u001b[39mlist_of_callables[\u001b[39m1\u001b[39m:], \u001b[39m*\u001b[39m\u001b[39m*\u001b[39m\u001b[39mself\u001b[39m\u001b[39m.\u001b[39mkwargs)\n\u001b[0;32m---> 36\u001b[0m \u001b[39mfor\u001b[39;00m \u001b[39mid\u001b[39m, (cme, extra_info) \u001b[39min\u001b[39;00m \u001b[39menumerate\u001b[39m(substage\u001b[39m.\u001b[39mrun()):\n\u001b[1;32m     37\u001b[0m     cme: CostModelEvaluation\n\u001b[1;32m     38\u001b[0m     filename \u001b[39m=\u001b[39m \u001b[39mself\u001b[39m\u001b[39m.\u001b[39mdump_filename_pattern\u001b[39m.\u001b[39mformat(datetime\u001b[39m=\u001b[39mdatetime\u001b[39m.\u001b[39mnow()\u001b[39m.\u001b[39misoformat()\u001b[39m.\u001b[39mreplace(\u001b[39m\"\u001b[39m\u001b[39m:\u001b[39m\u001b[39m\"\u001b[39m, \u001b[39m\"\u001b[39m\u001b[39m-\u001b[39m\u001b[39m\"\u001b[39m))\n",
      "File \u001b[0;32m~/anaconda3/envs/test-dist/lib/python3.9/site-packages/zigzag/classes/stages/ReduceStages.py:64\u001b[0m, in \u001b[0;36mMinimalLatencyStage.run\u001b[0;34m(self)\u001b[0m\n\u001b[1;32m     61\u001b[0m substage \u001b[39m=\u001b[39m \u001b[39mself\u001b[39m\u001b[39m.\u001b[39mlist_of_callables[\u001b[39m0\u001b[39m](sub_list_of_callables, \u001b[39m*\u001b[39m\u001b[39m*\u001b[39m\u001b[39mself\u001b[39m\u001b[39m.\u001b[39mkwargs)\n\u001b[1;32m     63\u001b[0m other_cmes \u001b[39m=\u001b[39m []\n\u001b[0;32m---> 64\u001b[0m \u001b[39mfor\u001b[39;00m cme, extra_info \u001b[39min\u001b[39;00m substage\u001b[39m.\u001b[39mrun():\n\u001b[1;32m     65\u001b[0m     \u001b[39mif\u001b[39;00m \u001b[39mself\u001b[39m\u001b[39m.\u001b[39mbest_cme \u001b[39mis\u001b[39;00m \u001b[39mNone\u001b[39;00m \u001b[39mor\u001b[39;00m cme\u001b[39m.\u001b[39mlatency_total2 \u001b[39m<\u001b[39m \u001b[39mself\u001b[39m\u001b[39m.\u001b[39mbest_cme\u001b[39m.\u001b[39mlatency_total2:\n\u001b[1;32m     66\u001b[0m         \u001b[39mself\u001b[39m\u001b[39m.\u001b[39mbest_cme \u001b[39m=\u001b[39m cme\n",
      "File \u001b[0;32m~/anaconda3/envs/test-dist/lib/python3.9/site-packages/zigzag/classes/stages/SpatialMappingGeneratorStage.py:89\u001b[0m, in \u001b[0;36mSpatialMappingGeneratorStage.run\u001b[0;34m(self)\u001b[0m\n\u001b[1;32m     83\u001b[0m \u001b[39m# Note: manual instantiation of spatial mapping conversion stage here. We let that class deal with\u001b[39;00m\n\u001b[1;32m     84\u001b[0m \u001b[39m# everything else, including instantion of the actual substages\u001b[39;00m\n\u001b[1;32m     85\u001b[0m spatial_mapping_conversion_stage \u001b[39m=\u001b[39m SpatialMappingConversionStage(\u001b[39mself\u001b[39m\u001b[39m.\u001b[39mlist_of_callables,\n\u001b[1;32m     86\u001b[0m                                                                  accelerator\u001b[39m=\u001b[39m\u001b[39mself\u001b[39m\u001b[39m.\u001b[39maccelerator,\n\u001b[1;32m     87\u001b[0m                                                                  layer\u001b[39m=\u001b[39m\u001b[39mself\u001b[39m\u001b[39m.\u001b[39mlayer,\n\u001b[1;32m     88\u001b[0m                                                                  \u001b[39m*\u001b[39m\u001b[39m*\u001b[39m\u001b[39mself\u001b[39m\u001b[39m.\u001b[39mkwargs)\n\u001b[0;32m---> 89\u001b[0m \u001b[39mfor\u001b[39;00m cme, extra_info \u001b[39min\u001b[39;00m spatial_mapping_conversion_stage\u001b[39m.\u001b[39mrun():\n\u001b[1;32m     90\u001b[0m     \u001b[39myield\u001b[39;00m cme, (user_spatial_mapping, extra_info)\n",
      "File \u001b[0;32m~/anaconda3/envs/test-dist/lib/python3.9/site-packages/zigzag/classes/stages/SpatialMappingConversionStage.py:59\u001b[0m, in \u001b[0;36mSpatialMappingConversionStage.run\u001b[0;34m(self)\u001b[0m\n\u001b[1;32m     56\u001b[0m kwargs[\u001b[39m'\u001b[39m\u001b[39mlayer\u001b[39m\u001b[39m'\u001b[39m] \u001b[39m=\u001b[39m \u001b[39mself\u001b[39m\u001b[39m.\u001b[39mlayer\n\u001b[1;32m     58\u001b[0m sub_stage \u001b[39m=\u001b[39m \u001b[39mself\u001b[39m\u001b[39m.\u001b[39mlist_of_callables[\u001b[39m0\u001b[39m](\u001b[39mself\u001b[39m\u001b[39m.\u001b[39mlist_of_callables[\u001b[39m1\u001b[39m:], \u001b[39m*\u001b[39m\u001b[39m*\u001b[39mkwargs)\n\u001b[0;32m---> 59\u001b[0m \u001b[39mfor\u001b[39;00m cme, extra_info \u001b[39min\u001b[39;00m sub_stage\u001b[39m.\u001b[39mrun():\n\u001b[1;32m     60\u001b[0m     \u001b[39myield\u001b[39;00m cme, extra_info\n",
      "File \u001b[0;32m~/anaconda3/envs/test-dist/lib/python3.9/site-packages/zigzag/classes/stages/ReduceStages.py:64\u001b[0m, in \u001b[0;36mMinimalLatencyStage.run\u001b[0;34m(self)\u001b[0m\n\u001b[1;32m     61\u001b[0m substage \u001b[39m=\u001b[39m \u001b[39mself\u001b[39m\u001b[39m.\u001b[39mlist_of_callables[\u001b[39m0\u001b[39m](sub_list_of_callables, \u001b[39m*\u001b[39m\u001b[39m*\u001b[39m\u001b[39mself\u001b[39m\u001b[39m.\u001b[39mkwargs)\n\u001b[1;32m     63\u001b[0m other_cmes \u001b[39m=\u001b[39m []\n\u001b[0;32m---> 64\u001b[0m \u001b[39mfor\u001b[39;00m cme, extra_info \u001b[39min\u001b[39;00m substage\u001b[39m.\u001b[39mrun():\n\u001b[1;32m     65\u001b[0m     \u001b[39mif\u001b[39;00m \u001b[39mself\u001b[39m\u001b[39m.\u001b[39mbest_cme \u001b[39mis\u001b[39;00m \u001b[39mNone\u001b[39;00m \u001b[39mor\u001b[39;00m cme\u001b[39m.\u001b[39mlatency_total2 \u001b[39m<\u001b[39m \u001b[39mself\u001b[39m\u001b[39m.\u001b[39mbest_cme\u001b[39m.\u001b[39mlatency_total2:\n\u001b[1;32m     66\u001b[0m         \u001b[39mself\u001b[39m\u001b[39m.\u001b[39mbest_cme \u001b[39m=\u001b[39m cme\n",
      "File \u001b[0;32m~/anaconda3/envs/test-dist/lib/python3.9/site-packages/zigzag/classes/stages/LomaStage.py:29\u001b[0m, in \u001b[0;36mLomaStage.run\u001b[0;34m(self)\u001b[0m\n\u001b[1;32m     25\u001b[0m \u001b[39mdef\u001b[39;00m \u001b[39mrun\u001b[39m(\u001b[39mself\u001b[39m):\n\u001b[1;32m     26\u001b[0m     \u001b[39mself\u001b[39m\u001b[39m.\u001b[39mengine \u001b[39m=\u001b[39m LomaEngine(accelerator\u001b[39m=\u001b[39m\u001b[39mself\u001b[39m\u001b[39m.\u001b[39maccelerator, layer\u001b[39m=\u001b[39m\u001b[39mself\u001b[39m\u001b[39m.\u001b[39mlayer, spatial_mapping\u001b[39m=\u001b[39m\u001b[39mself\u001b[39m\u001b[39m.\u001b[39mspatial_mapping,\n\u001b[1;32m     27\u001b[0m                              \u001b[39m*\u001b[39m\u001b[39m*\u001b[39m\u001b[39mself\u001b[39m\u001b[39m.\u001b[39mkwargs)\n\u001b[0;32m---> 29\u001b[0m     \u001b[39mfor\u001b[39;00m tm \u001b[39min\u001b[39;00m \u001b[39mself\u001b[39m\u001b[39m.\u001b[39mengine\u001b[39m.\u001b[39mrun():\n\u001b[1;32m     30\u001b[0m         kwargs \u001b[39m=\u001b[39m \u001b[39mself\u001b[39m\u001b[39m.\u001b[39mkwargs\u001b[39m.\u001b[39mcopy()\n\u001b[1;32m     31\u001b[0m         kwargs[\u001b[39m'\u001b[39m\u001b[39maccelerator\u001b[39m\u001b[39m'\u001b[39m] \u001b[39m=\u001b[39m \u001b[39mself\u001b[39m\u001b[39m.\u001b[39maccelerator\n",
      "File \u001b[0;32m~/anaconda3/envs/test-dist/lib/python3.9/site-packages/zigzag/classes/opt/temporal/loma/engine.py:90\u001b[0m, in \u001b[0;36mLomaEngine.run\u001b[0;34m(self)\u001b[0m\n\u001b[1;32m     88\u001b[0m \u001b[39m# using try catch here because in the depth-first mode the highest level might not be big enough\u001b[39;00m\n\u001b[1;32m     89\u001b[0m \u001b[39mtry\u001b[39;00m:\n\u001b[0;32m---> 90\u001b[0m     temporal_mapping \u001b[39m=\u001b[39m allocator\u001b[39m.\u001b[39;49mrun()  \u001b[39m# allocate this ordering to the memories\u001b[39;00m\n\u001b[1;32m     91\u001b[0m     yielded \u001b[39m=\u001b[39m \u001b[39mTrue\u001b[39;00m\n\u001b[1;32m     92\u001b[0m     \u001b[39myield\u001b[39;00m temporal_mapping\n",
      "File \u001b[0;32m~/anaconda3/envs/test-dist/lib/python3.9/site-packages/zigzag/classes/opt/temporal/loma/memory_allocator.py:83\u001b[0m, in \u001b[0;36mMemoryAllocator.run\u001b[0;34m(self)\u001b[0m\n\u001b[1;32m     81\u001b[0m nodes \u001b[39m=\u001b[39m memory_hierarchy\u001b[39m.\u001b[39mnodes\n\u001b[1;32m     82\u001b[0m \u001b[39mfor\u001b[39;00m node \u001b[39min\u001b[39;00m nodes:\n\u001b[0;32m---> 83\u001b[0m     \u001b[39mself\u001b[39;49m\u001b[39m.\u001b[39;49mallocate_node(node, top_levels)\n\u001b[1;32m     85\u001b[0m \u001b[39m# After all the nodes have been allocated, we can creat the TemporalMapping\u001b[39;00m\n\u001b[1;32m     86\u001b[0m \u001b[39m# object from the dictionary we have built\u001b[39;00m\n\u001b[1;32m     87\u001b[0m temporal_mapping \u001b[39m=\u001b[39m TemporalMapping(\u001b[39mself\u001b[39m\u001b[39m.\u001b[39mtemporal_mapping_dict, \u001b[39mself\u001b[39m\u001b[39m.\u001b[39mlayer)\n",
      "File \u001b[0;32m~/anaconda3/envs/test-dist/lib/python3.9/site-packages/zigzag/classes/opt/temporal/loma/memory_allocator.py:109\u001b[0m, in \u001b[0;36mMemoryAllocator.allocate_node\u001b[0;34m(self, node, top_levels)\u001b[0m\n\u001b[1;32m    107\u001b[0m all_sizes \u001b[39m=\u001b[39m {}\n\u001b[1;32m    108\u001b[0m \u001b[39mfor\u001b[39;00m mem_op \u001b[39min\u001b[39;00m mem_ops:\n\u001b[0;32m--> 109\u001b[0m     sizes \u001b[39m=\u001b[39m \u001b[39mself\u001b[39;49m\u001b[39m.\u001b[39;49mcalc_size_slices(mem_op, mem_capacity)\n\u001b[1;32m    110\u001b[0m     all_sizes[mem_op] \u001b[39m=\u001b[39m sizes\n\u001b[1;32m    112\u001b[0m \u001b[39m# Now that we have this for all the mem_ops, call function that finds the best\u001b[39;00m\n\u001b[1;32m    113\u001b[0m \u001b[39m# combination of loops to minimize the number of accesses to the level above\u001b[39;00m\n",
      "File \u001b[0;32m~/anaconda3/envs/test-dist/lib/python3.9/site-packages/zigzag/classes/opt/temporal/loma/memory_allocator.py:163\u001b[0m, in \u001b[0;36mMemoryAllocator.calc_size_slices\u001b[0;34m(self, mem_op, mem_capacity)\u001b[0m\n\u001b[1;32m    161\u001b[0m unallocated_slice \u001b[39m=\u001b[39m unallocated_loops[:i]  \u001b[39m# Grab a slice of the unallocated loops\u001b[39;00m\n\u001b[1;32m    162\u001b[0m loops \u001b[39m=\u001b[39m allocated_loops \u001b[39m+\u001b[39m unallocated_slice  \u001b[39m# Join them with already allocated loops\u001b[39;00m\n\u001b[0;32m--> 163\u001b[0m size \u001b[39m=\u001b[39m \u001b[39mself\u001b[39;49m\u001b[39m.\u001b[39;49mcalc_loops_size(loops, mem_op, unallocated_loops)\n\u001b[1;32m    164\u001b[0m \u001b[39mif\u001b[39;00m size \u001b[39m<\u001b[39m\u001b[39m=\u001b[39m mem_capacity:\n\u001b[1;32m    165\u001b[0m     sizes\u001b[39m.\u001b[39mappend(size)\n",
      "File \u001b[0;32m~/anaconda3/envs/test-dist/lib/python3.9/site-packages/zigzag/classes/opt/temporal/loma/memory_allocator.py:181\u001b[0m, in \u001b[0;36mMemoryAllocator.calc_loops_size\u001b[0;34m(self, loops, mem_op, all_unallocated_loops)\u001b[0m\n\u001b[1;32m    179\u001b[0m \u001b[39m# First we compute the size of all loop dimensions present in this layer given the loops in 'loops'.\u001b[39;00m\n\u001b[1;32m    180\u001b[0m all_dimensions \u001b[39m=\u001b[39m \u001b[39mself\u001b[39m\u001b[39m.\u001b[39mlayer\u001b[39m.\u001b[39mloop_dim_list\n\u001b[0;32m--> 181\u001b[0m all_dim_sizes \u001b[39m=\u001b[39m {dim: \u001b[39m1\u001b[39m \u001b[39mfor\u001b[39;00m dim \u001b[39min\u001b[39;00m all_dimensions}\n\u001b[1;32m    182\u001b[0m \u001b[39mfor\u001b[39;00m loop \u001b[39min\u001b[39;00m loops:\n\u001b[1;32m    183\u001b[0m     all_dim_sizes[loop\u001b[39m.\u001b[39mdimension] \u001b[39m*\u001b[39m\u001b[39m=\u001b[39m loop\u001b[39m.\u001b[39msize\n",
      "File \u001b[0;32m~/anaconda3/envs/test-dist/lib/python3.9/site-packages/zigzag/classes/opt/temporal/loma/memory_allocator.py:181\u001b[0m, in \u001b[0;36m<dictcomp>\u001b[0;34m(.0)\u001b[0m\n\u001b[1;32m    179\u001b[0m \u001b[39m# First we compute the size of all loop dimensions present in this layer given the loops in 'loops'.\u001b[39;00m\n\u001b[1;32m    180\u001b[0m all_dimensions \u001b[39m=\u001b[39m \u001b[39mself\u001b[39m\u001b[39m.\u001b[39mlayer\u001b[39m.\u001b[39mloop_dim_list\n\u001b[0;32m--> 181\u001b[0m all_dim_sizes \u001b[39m=\u001b[39m {dim: \u001b[39m1\u001b[39m \u001b[39mfor\u001b[39;00m dim \u001b[39min\u001b[39;00m all_dimensions}\n\u001b[1;32m    182\u001b[0m \u001b[39mfor\u001b[39;00m loop \u001b[39min\u001b[39;00m loops:\n\u001b[1;32m    183\u001b[0m     all_dim_sizes[loop\u001b[39m.\u001b[39mdimension] \u001b[39m*\u001b[39m\u001b[39m=\u001b[39m loop\u001b[39m.\u001b[39msize\n",
      "\u001b[0;31mKeyboardInterrupt\u001b[0m: "
     ]
    }
   ],
   "source": [
    "from zigzag.api import get_hardware_performance\n",
    "from zigzag.inputs.examples.mapping.alexnet_on_tpu_like import mapping as mapping_tpu\n",
    "from zigzag.inputs.examples.mapping.alexnet_on_edge_tpu_like import mapping as mapping_edge_tpu\n",
    "from zigzag.inputs.examples.mapping.alexnet_on_tesla_npu import mapping as mapping_tesla_npu\n",
    "from zigzag.inputs.examples.mapping.alexnet_on_meta_prototype import mapping as mapping_meta_prototype\n",
    "\n",
    "\n",
    "# List of hardware architectures we run our experiment for\n",
    "hardwares = [\"tpu\", \"edge-tpu\", \"tesla-npu\", \"meta-prototype\"]\n",
    "# List of mappings for each hardware (encodes the spatial dataflow)\n",
    "mappings = [mapping_tpu, mapping_edge_tpu, mapping_tesla_npu, mapping_meta_prototype]\n",
    "\n",
    "cmes = []\n",
    "for (hardware, mapping) in zip(hardwares, mappings):\n",
    "    # Pickle filename to save list of cmes\n",
    "    pickle_filename = \"outputs/list_of_cmes.pickle\"\n",
    "    # Call the zigzag api, using a provided accelerator and mapping\n",
    "    # energy, latency = get_hardware_performance(onnx_model, accelerator, mapping)\n",
    "    energy, latency, cme = get_hardware_performance(onnx_model, hardware, mapping=mapping, opt='latency', pickle_filename=pickle_filename)\n",
    "    print(f\"Total onnx model (energy, latency) performance = ({energy:.3e}, {latency:.3e}).\")\n",
    "    cmes.append(cme)"
   ]
  },
  {
   "cell_type": "markdown",
   "metadata": {},
   "source": [
    "### Visualizing the results\n",
    "Inside the repo, we have provided a visualization script, that can automatically visualize these best \"cost model evaluations\" found by ZigZag.\n",
    "\n",
    "We use the generated list of cost model evaluations (representing the total AlexNet performance for each architecture) from the previous step to visualize the energy and latency distribution across architectures.\n"
   ]
  },
  {
   "cell_type": "code",
   "execution_count": null,
   "metadata": {},
   "outputs": [],
   "source": [
    "from zigzag.visualization.results.plot_cme import bar_plot_cost_model_evaluations_total\n",
    "\n",
    "bar_plot_cost_model_evaluations_total(cmes, labels=hardwares, fig_title=\"Best latency mapping found\", save_path=\"plot_total.png\")"
   ]
  }
 ],
 "metadata": {
  "kernelspec": {
   "display_name": "Python 3.9.13 ('test-dist')",
   "language": "python",
   "name": "python3"
  },
  "language_info": {
   "codemirror_mode": {
    "name": "ipython",
    "version": 3
   },
   "file_extension": ".py",
   "mimetype": "text/x-python",
   "name": "python",
   "nbconvert_exporter": "python",
   "pygments_lexer": "ipython3",
   "version": "3.9.13"
  },
  "orig_nbformat": 4,
  "vscode": {
   "interpreter": {
    "hash": "b26761be4d443acf432ac781032848e900072d917af91210c21de14e94fbc877"
   }
  }
 },
 "nbformat": 4,
 "nbformat_minor": 2
}
