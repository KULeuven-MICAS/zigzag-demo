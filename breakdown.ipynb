{
 "cells": [
  {
   "cell_type": "markdown",
   "metadata": {},
   "source": [
    "## An architecture's energy and latency breakdown\n",
    "\n",
    "In this demo, we dive deeper into the internal components of ZigZag's cost model by showing key aspects in the energy and latency calculation of a layer. \n",
    "\n",
    "First, we load in the ONNX model of AlexNet, which is the DNN used in this example.\n"
   ]
  },
  {
   "cell_type": "code",
   "execution_count": null,
   "metadata": {},
   "outputs": [],
   "source": [
    "# Load in the AlexNet ONNX model. (taken from onnx model zoo)\n",
    "import onnx\n",
    "onnx_model_path = \"alexnet.onnx\"\n",
    "onnx_model = onnx.load(onnx_model_path, load_external_data=False)"
   ]
  },
  {
   "cell_type": "markdown",
   "metadata": {},
   "source": [
    "Next, we run ZigZag through the API, extracting the layer-by-layer hardware performance on the Edge-TPU architecture. It returns the total network energy, latency and 'CostModelEvaluation'. A pickle file is saved containing the optimal 'CostModelEvaluation' of each individual layer in 'pickle_filename'."
   ]
  },
  {
   "cell_type": "code",
   "execution_count": null,
   "metadata": {},
   "outputs": [],
   "source": [
    "from zigzag.api import get_hardware_performance\n",
    "from zigzag.inputs.examples.mapping.alexnet_on_edge_tpu_like import mapping as mapping_edge_tpu\n",
    "pickle_filename = \"outputs/layer_cmes_alexnet.pickle\"\n",
    "energy, latency, network_cme = get_hardware_performance(onnx_model, \"edge-tpu\", mapping_edge_tpu, pickle_filename=pickle_filename)"
   ]
  },
  {
   "cell_type": "markdown",
   "metadata": {},
   "source": [
    "We can print the total network energy and latency:"
   ]
  },
  {
   "cell_type": "code",
   "execution_count": null,
   "metadata": {},
   "outputs": [],
   "source": [
    "print(f\"Total network energy= {energy:.2e}\")\n",
    "print(f\"Total network latency= {latency:.2e}\")"
   ]
  },
  {
   "cell_type": "markdown",
   "metadata": {},
   "source": [
    "As logged during our ZigZag run, a list of 8 CMEs is saved to 'pickle_filename'. We load in this list and use the built-in visualization script to show an energy and latency breakdown for each of the layers. As the last fully connected layers are a clear bottleneck (you can verify this yourself by plotting all the CMEs instead of only the first 5), they are not plotted in this example."
   ]
  },
  {
   "cell_type": "code",
   "execution_count": null,
   "metadata": {},
   "outputs": [],
   "source": [
    "import pickle\n",
    "from zigzag.visualization.results.plot_cme import bar_plot_cost_model_evaluations_breakdown\n",
    "\n",
    "# Load in the pickled list of CMEs\n",
    "with open(pickle_filename, 'rb') as fp:\n",
    "    breakdown_cmes = pickle.load(fp)\n",
    "\n",
    "# Plot all the layers and save to 'plot_all.png'\n",
    "bar_plot_cost_model_evaluations_breakdown(breakdown_cmes[:5], save_path=\"plot_breakdown.png\")\n"
   ]
  },
  {
   "cell_type": "markdown",
   "metadata": {},
   "source": [
    "As mentioned, this plot shows the different layers of AlexNet. It has two core components: the top one showing the energy breakdown, and the bottom one latency breakdown. \n",
    "\n",
    "### Energy breakdown\n",
    "\n",
    "Different layer shapes have different activation sizes (I/O) and parameter sizes (W), which cause a varying number of memory accesses, depending on the layout of the memory hierarchy for each of these operands and the achievable reuse for each operand within each memory.\n",
    "\n",
    "### Latency breakdown\n",
    "\n",
    "Different aspects impact the latency. The spatial under-utilization of the array leads to \"spatial stalls\", where as insufficient memory bandwidth can lead to \"temporal stalls\"."
   ]
  }
 ],
 "metadata": {
  "kernelspec": {
   "display_name": "Python 3.9.13 ('test-dist')",
   "language": "python",
   "name": "python3"
  },
  "language_info": {
   "codemirror_mode": {
    "name": "ipython",
    "version": 3
   },
   "file_extension": ".py",
   "mimetype": "text/x-python",
   "name": "python",
   "nbconvert_exporter": "python",
   "pygments_lexer": "ipython3",
   "version": "3.9.13"
  },
  "orig_nbformat": 4,
  "vscode": {
   "interpreter": {
    "hash": "b26761be4d443acf432ac781032848e900072d917af91210c21de14e94fbc877"
   }
  }
 },
 "nbformat": 4,
 "nbformat_minor": 2
}
