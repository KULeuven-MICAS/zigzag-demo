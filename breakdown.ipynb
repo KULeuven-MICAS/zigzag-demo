{
 "cells": [
  {
   "cell_type": "markdown",
   "metadata": {},
   "source": [
    "## An architecture's energy and latency breakdown\n",
    "\n",
    "In this demo, we dive deeper into the internal components of ZigZag's cost model by showing key aspects in the energy and latency calculation of a layer. \n",
    "\n",
    "First, we load in the ONNX model of AlexNet, which is the DNN used in this example.\n"
   ]
  },
  {
   "cell_type": "code",
   "execution_count": 1,
   "metadata": {},
   "outputs": [],
   "source": [
    "# Load in the AlexNet ONNX model. (taken from onnx model zoo)\n",
    "import onnx\n",
    "onnx_model_path = \"alexnet.onnx\"\n",
    "onnx_model = onnx.load(onnx_model_path, load_external_data=False)"
   ]
  },
  {
   "cell_type": "markdown",
   "metadata": {},
   "source": [
    "Next, we run ZigZag through the API, extracting the layer-by-layer hardware performance on the Edge-TPU architecture. It returns the total network energy, latency and 'CostModelEvaluation'. A pickle file is saved containing the optimal 'CostModelEvaluation' of each individual layer in 'pickle_filename'."
   ]
  },
  {
   "cell_type": "code",
   "execution_count": 2,
   "metadata": {},
   "outputs": [
    {
     "ename": "ModuleNotFoundError",
     "evalue": "No module named 'multiprocessing_on_dill'",
     "output_type": "error",
     "traceback": [
      "\u001b[0;31m---------------------------------------------------------------------------\u001b[0m",
      "\u001b[0;31mModuleNotFoundError\u001b[0m                       Traceback (most recent call last)",
      "Cell \u001b[0;32mIn[2], line 1\u001b[0m\n\u001b[0;32m----> 1\u001b[0m \u001b[39mfrom\u001b[39;00m \u001b[39mzigzag\u001b[39;00m\u001b[39m.\u001b[39;00m\u001b[39mapi\u001b[39;00m \u001b[39mimport\u001b[39;00m get_hardware_performance\n\u001b[1;32m      2\u001b[0m \u001b[39mfrom\u001b[39;00m \u001b[39mzigzag\u001b[39;00m\u001b[39m.\u001b[39;00m\u001b[39minputs\u001b[39;00m\u001b[39m.\u001b[39;00m\u001b[39mexamples\u001b[39;00m\u001b[39m.\u001b[39;00m\u001b[39mmapping\u001b[39;00m\u001b[39m.\u001b[39;00m\u001b[39malexnet_on_edge_tpu_like\u001b[39;00m \u001b[39mimport\u001b[39;00m mapping \u001b[39mas\u001b[39;00m mapping_edge_tpu\n\u001b[1;32m      3\u001b[0m pickle_filename \u001b[39m=\u001b[39m \u001b[39m\"\u001b[39m\u001b[39moutputs/layer_cmes_alexnet.pickle\u001b[39m\u001b[39m\"\u001b[39m\n",
      "File \u001b[0;32m~/anaconda3/envs/zigzag-demo/lib/python3.10/site-packages/zigzag/api.py:1\u001b[0m\n\u001b[0;32m----> 1\u001b[0m \u001b[39mfrom\u001b[39;00m \u001b[39mzigzag\u001b[39;00m\u001b[39m.\u001b[39;00m\u001b[39mclasses\u001b[39;00m\u001b[39m.\u001b[39;00m\u001b[39mstages\u001b[39;00m \u001b[39mimport\u001b[39;00m \u001b[39m*\u001b[39m\n\u001b[1;32m      4\u001b[0m \u001b[39mdef\u001b[39;00m \u001b[39mget_hardware_performance\u001b[39m(onnx_model, accelerator, mapping\u001b[39m=\u001b[39m\u001b[39mNone\u001b[39;00m, opt\u001b[39m=\u001b[39m\u001b[39m'\u001b[39m\u001b[39mlatency\u001b[39m\u001b[39m'\u001b[39m, dump_filename_pattern\u001b[39m=\u001b[39m\u001b[39m\"\u001b[39m\u001b[39moutputs/\u001b[39m\u001b[39m{datetime}\u001b[39;00m\u001b[39m.json\u001b[39m\u001b[39m\"\u001b[39m, pickle_filename\u001b[39m=\u001b[39m\u001b[39m\"\u001b[39m\u001b[39moutputs/list_of_cmes.pickle\u001b[39m\u001b[39m\"\u001b[39m):\n\u001b[1;32m      5\u001b[0m     \n\u001b[1;32m      6\u001b[0m     \u001b[39m# Initialize the logger\u001b[39;00m\n\u001b[1;32m      7\u001b[0m     \u001b[39mimport\u001b[39;00m \u001b[39mlogging\u001b[39;00m \u001b[39mas\u001b[39;00m \u001b[39m_logging\u001b[39;00m\n",
      "File \u001b[0;32m~/anaconda3/envs/zigzag-demo/lib/python3.10/site-packages/zigzag/classes/stages/__init__.py:7\u001b[0m\n\u001b[1;32m      5\u001b[0m \u001b[39mfrom\u001b[39;00m \u001b[39m.\u001b[39;00m\u001b[39mGeneralParameterIteratorStage\u001b[39;00m \u001b[39mimport\u001b[39;00m GeneralParameterIteratorStage\n\u001b[1;32m      6\u001b[0m \u001b[39mfrom\u001b[39;00m \u001b[39m.\u001b[39;00m\u001b[39mLomaStage\u001b[39;00m \u001b[39mimport\u001b[39;00m LomaStage\n\u001b[0;32m----> 7\u001b[0m \u001b[39mfrom\u001b[39;00m \u001b[39m.\u001b[39;00m\u001b[39mSalsaStage\u001b[39;00m \u001b[39mimport\u001b[39;00m SalsaStage\n\u001b[1;32m      8\u001b[0m \u001b[39mfrom\u001b[39;00m \u001b[39m.\u001b[39;00m\u001b[39mMainInputParserStages\u001b[39;00m \u001b[39mimport\u001b[39;00m AcceleratorParserStage, WorkloadParserStage, WorkloadAndAcceleratorParserStage\n\u001b[1;32m      9\u001b[0m \u001b[39mfrom\u001b[39;00m \u001b[39m.\u001b[39;00m\u001b[39mONNXModelParserStage\u001b[39;00m \u001b[39mimport\u001b[39;00m ONNXModelParserStage\n",
      "File \u001b[0;32m~/anaconda3/envs/zigzag-demo/lib/python3.10/site-packages/zigzag/classes/stages/SalsaStage.py:28\u001b[0m\n\u001b[1;32m      1\u001b[0m \u001b[39m#   =====================================================================\u001b[39;00m\n\u001b[1;32m      2\u001b[0m \u001b[39m#   Title:        SalsaStage.py\u001b[39;00m\n\u001b[1;32m      3\u001b[0m \u001b[39m#   Description:\u001b[39;00m\n\u001b[0;32m   (...)\u001b[0m\n\u001b[1;32m     25\u001b[0m \u001b[39m#   limitations under the License.\u001b[39;00m\n\u001b[1;32m     26\u001b[0m \u001b[39m#  \u001b[39;00m\n\u001b[0;32m---> 28\u001b[0m \u001b[39mimport\u001b[39;00m \u001b[39mmultiprocessing_on_dill\u001b[39;00m \u001b[39mas\u001b[39;00m \u001b[39mmultiprocessing\u001b[39;00m\n\u001b[1;32m     29\u001b[0m \u001b[39mfrom\u001b[39;00m \u001b[39msympy\u001b[39;00m\u001b[39m.\u001b[39;00m\u001b[39mntheory\u001b[39;00m \u001b[39mimport\u001b[39;00m factorint\n\u001b[1;32m     30\u001b[0m \u001b[39mfrom\u001b[39;00m \u001b[39mcopy\u001b[39;00m \u001b[39mimport\u001b[39;00m deepcopy\n",
      "\u001b[0;31mModuleNotFoundError\u001b[0m: No module named 'multiprocessing_on_dill'"
     ]
    }
   ],
   "source": [
    "from zigzag.api import get_hardware_performance\n",
    "from zigzag.inputs.examples.mapping.alexnet_on_edge_tpu_like import mapping as mapping_edge_tpu\n",
    "pickle_filename = \"outputs/layer_cmes_alexnet.pickle\"\n",
    "energy, latency, network_cme = get_hardware_performance(onnx_model, \"edge-tpu\", mapping_edge_tpu, pickle_filename=pickle_filename)"
   ]
  },
  {
   "cell_type": "markdown",
   "metadata": {},
   "source": [
    "We can print the total network energy and latency:"
   ]
  },
  {
   "cell_type": "code",
   "execution_count": null,
   "metadata": {},
   "outputs": [
    {
     "ename": "",
     "evalue": "",
     "output_type": "error",
     "traceback": [
      "\u001b[1;31mRunning cells with 'zigzag-demo' requires ipykernel package.\n",
      "\u001b[1;31mRun the following command to install 'ipykernel' into the Python environment. \n",
      "\u001b[1;31mCommand: 'conda install -n zigzag-demo ipykernel --update-deps --force-reinstall'"
     ]
    }
   ],
   "source": [
    "print(f\"Total network energy= {energy:.2e}\")\n",
    "print(f\"Total network latency= {latency:.2e}\")"
   ]
  },
  {
   "cell_type": "markdown",
   "metadata": {},
   "source": [
    "As logged during our ZigZag run, a list of 8 CMEs is saved to 'pickle_filename'. We load in this list and use the built-in visualization script to show an energy and latency breakdown for each of the layers. As the last fully connected layers are a clear bottleneck (you can verify this yourself by plotting all the CMEs instead of only the first 5), they are not plotted in this example."
   ]
  },
  {
   "cell_type": "code",
   "execution_count": null,
   "metadata": {},
   "outputs": [
    {
     "ename": "",
     "evalue": "",
     "output_type": "error",
     "traceback": [
      "\u001b[1;31mRunning cells with 'zigzag-demo' requires ipykernel package.\n",
      "\u001b[1;31mRun the following command to install 'ipykernel' into the Python environment. \n",
      "\u001b[1;31mCommand: 'conda install -n zigzag-demo ipykernel --update-deps --force-reinstall'"
     ]
    }
   ],
   "source": [
    "import pickle\n",
    "from zigzag.visualization.results.plot_cme import bar_plot_cost_model_evaluations_breakdown\n",
    "\n",
    "# Load in the pickled list of CMEs\n",
    "with open(pickle_filename, 'rb') as fp:\n",
    "    breakdown_cmes = pickle.load(fp)\n",
    "\n",
    "# Plot all the layers and save to 'plot_all.png'\n",
    "bar_plot_cost_model_evaluations_breakdown(breakdown_cmes[:5], save_path=\"plot_breakdown.png\")\n"
   ]
  },
  {
   "cell_type": "markdown",
   "metadata": {},
   "source": [
    "As mentioned, this plot shows the different layers of AlexNet. It has two core components: the top one showing the energy breakdown, and the bottom one latency breakdown. \n",
    "\n",
    "### Energy breakdown\n",
    "\n",
    "Different layer shapes have different activation sizes (I/O) and parameter sizes (W), which cause a varying number of memory accesses, depending on the layout of the memory hierarchy for each of these operands and the achievable reuse for each operand within each memory.\n",
    "\n",
    "### Latency breakdown\n",
    "\n",
    "Different aspects impact the latency. The spatial under-utilization of the array leads to \"spatial stalls\", where as insufficient memory bandwidth can lead to \"temporal stalls\"."
   ]
  }
 ],
 "metadata": {
  "kernelspec": {
   "display_name": "zigzag-demo",
   "language": "python",
   "name": "python3"
  },
  "language_info": {
   "codemirror_mode": {
    "name": "ipython",
    "version": 3
   },
   "file_extension": ".py",
   "mimetype": "text/x-python",
   "name": "python",
   "nbconvert_exporter": "python",
   "pygments_lexer": "ipython3",
   "version": "3.10.9"
  },
  "orig_nbformat": 4,
  "vscode": {
   "interpreter": {
    "hash": "e7cede97536c29b3d7ab0d7a1228aa05f998c5193c80f3f24dcb7828ffb466b3"
   }
  }
 },
 "nbformat": 4,
 "nbformat_minor": 2
}
